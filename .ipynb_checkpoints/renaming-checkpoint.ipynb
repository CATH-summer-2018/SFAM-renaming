{
 "cells": [
  {
   "cell_type": "code",
   "execution_count": 28,
   "metadata": {
    "ExecuteTime": {
     "end_time": "2018-06-28T11:05:44.348061Z",
     "start_time": "2018-06-28T11:05:44.341581Z"
    },
    "init_cell": true
   },
   "outputs": [],
   "source": [
    "import pandas as pd\n",
    "pd.options.display.max_colwidth = 300\n",
    "import numpy as np\n",
    "from pprint import pprint"
   ]
  },
  {
   "cell_type": "markdown",
   "metadata": {},
   "source": [
    "# Guidelines for the Standardisation of InterPro Entry Names and Short Names:\n",
    "\n",
    "## Long Names\n",
    "\n",
    "### Must be no more than 100 characters\n",
    "\n",
    "### Must be unique\n",
    "\n",
    "### Must start with upper case (unless initial term represents an accepted and common abbreviation, e.g. tRNA, rRNA, cAMP)\n",
    "\n",
    "* Only capitalise proper nouns within the name (e.g. Gram)\n",
    "\n",
    "* Gene product abbreviations, the first and last letter should be capitalised: AbcA; this is irrespective of the genome nomenclature standards for individual organisms.\n",
    "\n",
    "#### Can contain the following grammatical symbols:\n",
    "\n",
    "* Slash - / represents 'or' or 'and', e.g. subunits B/E, alpha/beta, 1/2\n",
    "\n",
    "* Prime - ' and brackets: (),[] can be used in enzyme or chemical terms\n",
    "\n",
    "* Hyphen, can be used as a modifier, e.g. Abc1-like, archaeal-like\n",
    "\n",
    "#### Must not contain the following grammatical symbols:\n",
    "\n",
    "* underscore\n",
    "\n",
    "* dash\n",
    "\n",
    "* mathematical symbols +, -, *, \\\n",
    "\n",
    "* colon\n",
    "\n",
    "* semi-colon\n",
    "\n",
    "#### Must not contains the following words:\n",
    "\n",
    "* plurals e.g. proteins, subunits\n",
    "\n",
    "* with\n",
    "\n",
    "* within\n",
    "\n",
    "* on\n",
    "\n",
    "* an\n",
    "\n",
    "* to\n",
    "\n",
    "* in\n",
    "\n",
    "* involved\n",
    "\n",
    "* protein - unless it is specifically part of the Name e.g. Uncharacterised conserved protein (UCP), Vacuolar protein sorting (Vps)\n",
    "\n",
    "* CONJUNCTIONS: for, and, nor, but, or, so\n",
    "\n",
    "#### Avoid referring to the following, unless this is accurate representation of the protein family name:\n",
    "\n",
    "* organs\n",
    "\n",
    "* tissue types\n",
    "\n",
    "* cell types\n",
    "\n",
    "#### Generally avoid the use of the following terms:\n",
    "\n",
    "* precursor\n",
    "\n",
    "* homolog\n",
    "\n",
    "* paralog\n",
    "\n",
    "* ortholog\n",
    "\n",
    "* gene\n",
    "\n",
    "#### Positional restraints; names should not begin with:\n",
    "\n",
    "* Predicted\n",
    "\n",
    "* Probable\n",
    "\n",
    "* Putative\n",
    "\n",
    "#### Modifiers\n",
    "\n",
    "* type\n",
    "\n",
    "* related,\n",
    "\n",
    "* associated\n",
    "\n",
    "#### These should ONLY be used with a hyphen, attached to the term they are intended to modify, e.g. bacterial-type, Abc1-related, Vps21-associated.\n",
    "\n",
    "##### Avoid acronyms and abbreviations in names wherever possible\n",
    "\n",
    "* Exceptions are the use of abbreviations used for protein COMPLEXs, for example:\n",
    "\n",
    "* DASH complex, subunit Spc19\n",
    "\n",
    "* MRN complex, subunit Mre11\n",
    "\n",
    "### Name structure\n",
    "\n",
    "#### Order the name with the most general classification first, going to the most specific, with taxonomy at the end (taxonomy to be added only if necessary to distinguish one entry from another):\n",
    "\n",
    "* STEM (class/family/protein name), SUBDIVISION (type, subunit, example gene-product name), POSITION (C/N-terminal), TAXONOMY\n",
    "\n",
    "* Use the terms site, domain, family and superfamily where these names accurately describe the biology (e.g. SH2 domain describes a known domain)\n",
    "\n",
    "* Separate parts of names using commas\n",
    "\n",
    "* Regarding, taxonomy, this should only be used if it is necessary to specify a particular lineage. For example:\n",
    "\n",
    "* RNA polymerase alpha subunit, C-terminal, archaea\n",
    "\n",
    "* Phosphoenolpyruvate carboxylase, archaeal-type\n",
    "\n",
    "* Phosphoenolpyruvate carboxylase, bacterial/plant-type\n",
    "\n",
    "#### Name conventions for uncharacterised families/domains:\n",
    "\n",
    "* Protein/Domain of unknown function DUFnnnnn = Pfam (note n= numeric character)\n",
    "\n",
    "* DUF numbering is provided by Pfam\n",
    "\n",
    "* Uncharacterised conserved protein UCPnnnnnn = PIRSF\n",
    "\n",
    "* UCPnnnnnn, numbering is taken from the method accession (PIRSF006287 = UCP006287). Either provided by PIR or added by InterPro where applicable.\n",
    "\n",
    "* Conserved hypothetical protein CHPnnnnn = TIGRFAMs\n",
    "\n",
    "* CHPnnnnn, numbering is taken from the method accession (TIGR01620 = CHP01620). Either provided by TIGR or added by InterPro where applicable.\n",
    "\n",
    "* Uncharacterised protein family UPFnnnn = Swiss-Prot\n",
    "\n",
    "* UPFnnnn, numbering is provide Swiss-Prot.\n",
    "\n",
    "* also used by Pfam when they model Swiss-Prot families.\n",
    "\n",
    "* Where a set of UPF Swiss-Prot entries are deemed to be representative of the InterPro entry the Swiss-Prot naming convention will be used in preference to the member database convention for families of unknown function.\n",
    "\n",
    "* Uncharacterised protein family <text>, <modifier> = InterPro\n",
    "\n",
    "* Uncharacterised_<text/modifier>\n",
    "\n",
    "* For use where a member database family does not use its own format for an entry where the contents have no known function."
   ]
  },
  {
   "cell_type": "code",
   "execution_count": 6,
   "metadata": {
    "ExecuteTime": {
     "end_time": "2018-06-28T10:51:22.975546Z",
     "start_time": "2018-06-28T10:51:22.850455Z"
    },
    "deletable": false,
    "editable": false,
    "run_control": {
     "frozen": true
    }
   },
   "outputs": [],
   "source": [
    "!wget ftp://orengoftp.biochem.ucl.ac.uk/cath/releases/latest-release/cath-classification-data/cath-superfamily-list.txt\n",
    "\n",
    "!tail -n +7 cath-superfamily-list.txt > parsed_list.txt"
   ]
  },
  {
   "cell_type": "code",
   "execution_count": 32,
   "metadata": {
    "ExecuteTime": {
     "end_time": "2018-06-28T11:21:35.949491Z",
     "start_time": "2018-06-28T11:21:35.894294Z"
    }
   },
   "outputs": [],
   "source": [
    "df = pd.read_csv(\"./parsed_list.txt\", sep='\\t',index_col=0)\n",
    "df = df.dropna()\n",
    "df['COMMENT'] = np.nan\n",
    "class DataFrame_parser(object):\n",
    "    def __init__(self, df):\n",
    "        self.df = df\n",
    "        \n",
    "    ### AUTOMATED REPLACE\n",
    "    \n",
    "    def semicolon(self): #replace semicolons with commas\n",
    "        ret = self.df[self.df['NAME'].str.contains(\";\")]['NAME'].str.replace(\";\", ',')\n",
    "        comment = pd.Series(index=ret.index, name='COMMENT', data=\"S\")\n",
    "        return ret, comment\n",
    "    \n",
    "    def lowercase_start(self): #replace lowercase start with capital\n",
    "        st_lower = df[df['NAME'].str[0].str.islower()]['NAME']\n",
    "        st_lower = st_lower.mask(st_lower.str.contains(r'^[m|t|r|ss|ds][R|D]NA|^cAMP', regex=True)).dropna()\n",
    "        ret = st_lower.str[0].str.upper() + st_lower.str[1:]\n",
    "        comment = pd.Series(index=ret.index,name='COMMENT', data=\"L\")\n",
    "        return ret, comment\n",
    "    \n",
    "    def trailing_stop(self): #remove trailing dots\n",
    "        ret = self.df[self.df[\"NAME\"].str.endswith('.')]['NAME'].str[:-1]\n",
    "        comment = pd.Series(index=ret.index, name='COMMENT', data=\"T\")\n",
    "        return ret, comment\n",
    "    \n",
    "    def other_stop(self): #replace other dots with commas\n",
    "        s = self.df[self.df['NAME'].str.contains(\"\\.\")]['NAME']\n",
    "        s = s.mask(s.str.contains(r'\\d\\.\\d')).dropna()\n",
    "        ret = s.str.replace(\".\", ',')\n",
    "        comment = pd.Series(index=ret.index, name='COMMENT', data=\"C\")\n",
    "        return ret, comment\n",
    "    \n",
    "    def implement_replacements(self): #combine replacements with \n",
    "        ret_df = self.df[['NAME','COMMENT']]\n",
    "        ret_df['NEW_NAME'] = ret_df['NAME']\n",
    "        for r, c in [self.semicolon(), self.lowercase_start(), self.trailing_stop(), self.other_stop()]:\n",
    "            ret_df['NEW_NAME'] = r.combine_first(ret_df['NEW_NAME'])\n",
    "            ret_df['COMMENT'] = c.combine(ret_df['COMMENT'], lambda c, r:str(c)+str(r))\n",
    "        ret_df['COMMENT'] = ret_df[\"COMMENT\"].str.replace(\"nan\", '')\n",
    "        return ret_df.replace('', np.nan, regex=True)\n",
    "    \n",
    "\n",
    "    ### S - replace semicolon, L - lowercase start, T - trailing stop, C - other stop      \n",
    "            \n",
    "    ### FLAGGING FOR REPLACE\n",
    "    \n",
    "    def duplicates(self):\n",
    "        ret = self.df[self.df.duplicated(subset=\"NAME\", keep=False)].groupby(by='NAME')\n",
    "        return ret\n",
    "    \n",
    "    def implement_duplicates(self):\n",
    "        r = {}\n",
    "        for name, group in D.duplicates():\n",
    "            r[name] = \", \".join(group.index.values.tolist())\n",
    "        s = pd.Series(data=r)\n",
    "        return s\n",
    "    def underscore(self):\n",
    "        ret = self.df[self.df['NAME'].str.contains(\"_\")]['NAME']\n",
    "        comment = pd.Series(index=ret.index, data=\"Contains an underscore\")\n",
    "        return ret, comment\n",
    "    \n",
    "    def plus(self):\n",
    "        ret = self.df[self.df['NAME'].str.contains(\"+\")]['NAME']\n",
    "        comment = pd.Series(index=ret.index, data=\"Contains a plus sign\")\n",
    "        return ret, comment\n",
    "    \n",
    "    def bad_words(self):\n",
    "        bad_words = [\"proteins\", \"subunits\", \"with\", \"within\", \"on\", \"an\", \"to\", \"in\", \"involved\", \"for\", \"and\", \"nor\", \"but\", \"or\", \"so\"]\n",
    "        bad_words = [' {0} '.format(elem) for elem in bad_words]\n",
    "        ret = self.df[self.df['NAME'].str.contains(\"|\".join(bad_words))]\n",
    "        comment = pd.Series(index=ret.index, data=\"Contains one of the forbidden words\")\n",
    "        return ret, comment\n",
    "    \n",
    "    def bad_start(self):\n",
    "        ret = self.df[self.df['NAME'].str.startswith(\"Predicted|Probable|Putative\")]\n",
    "        comment = pd.Series(index=ret.index, data=\"Started with forbidden words\")\n",
    "        return ret, comment\n",
    "    \n",
    "    def compile_flags(self):\n",
    "        ret = pd.Series()\n",
    "        comment = pd.Series()\n",
    "        \n",
    "D = DataFrame_parser(df)"
   ]
  },
  {
   "cell_type": "code",
   "execution_count": 25,
   "metadata": {
    "ExecuteTime": {
     "end_time": "2018-06-28T11:05:16.089340Z",
     "start_time": "2018-06-28T11:05:16.083229Z"
    },
    "scrolled": false
   },
   "outputs": [],
   "source": []
  },
  {
   "cell_type": "markdown",
   "metadata": {},
   "source": [
    "#### Must not contains the following words:\n",
    "\n",
    "* plurals e.g. proteins, subunits\n",
    "\n",
    "* with\n",
    "\n",
    "* within\n",
    "\n",
    "* on\n",
    "\n",
    "* an\n",
    "\n",
    "* to\n",
    "\n",
    "* in\n",
    "\n",
    "* involved\n",
    "\n",
    "* protein - unless it is specifically part of the Name e.g. Uncharacterised conserved protein (UCP), Vacuolar protein sorting (Vps)\n",
    "\n",
    "* CONJUNCTIONS: for, and, nor, but, or, so"
   ]
  },
  {
   "cell_type": "code",
   "execution_count": 33,
   "metadata": {
    "ExecuteTime": {
     "end_time": "2018-06-28T11:22:19.229239Z",
     "start_time": "2018-06-28T11:22:18.677979Z"
    }
   },
   "outputs": [
    {
     "name": "stderr",
     "output_type": "stream",
     "text": [
      "/usr/lib/python3.6/site-packages/ipykernel_launcher.py:36: SettingWithCopyWarning: \n",
      "A value is trying to be set on a copy of a slice from a DataFrame.\n",
      "Try using .loc[row_indexer,col_indexer] = value instead\n",
      "\n",
      "See the caveats in the documentation: http://pandas.pydata.org/pandas-docs/stable/indexing.html#indexing-view-versus-copy\n",
      "/usr/lib/python3.6/site-packages/ipykernel_launcher.py:38: SettingWithCopyWarning: \n",
      "A value is trying to be set on a copy of a slice from a DataFrame.\n",
      "Try using .loc[row_indexer,col_indexer] = value instead\n",
      "\n",
      "See the caveats in the documentation: http://pandas.pydata.org/pandas-docs/stable/indexing.html#indexing-view-versus-copy\n",
      "/usr/lib/python3.6/site-packages/ipykernel_launcher.py:39: SettingWithCopyWarning: \n",
      "A value is trying to be set on a copy of a slice from a DataFrame.\n",
      "Try using .loc[row_indexer,col_indexer] = value instead\n",
      "\n",
      "See the caveats in the documentation: http://pandas.pydata.org/pandas-docs/stable/indexing.html#indexing-view-versus-copy\n",
      "/usr/lib/python3.6/site-packages/ipykernel_launcher.py:40: SettingWithCopyWarning: \n",
      "A value is trying to be set on a copy of a slice from a DataFrame.\n",
      "Try using .loc[row_indexer,col_indexer] = value instead\n",
      "\n",
      "See the caveats in the documentation: http://pandas.pydata.org/pandas-docs/stable/indexing.html#indexing-view-versus-copy\n"
     ]
    }
   ],
   "source": [
    "D.implement_replacements().dropna().to_csv('./renamed_superfamilies.tsv', sep='\\t')\n",
    "D.implement_duplicates().to_csv(\"./duplicates.tsv\", sep='\\t')"
   ]
  },
  {
   "cell_type": "code",
   "execution_count": null,
   "metadata": {
    "ExecuteTime": {
     "end_time": "2018-06-28T11:11:23.818933Z",
     "start_time": "2018-06-28T11:11:23.803411Z"
    }
   },
   "outputs": [],
   "source": []
  },
  {
   "cell_type": "code",
   "execution_count": null,
   "metadata": {
    "ExecuteTime": {
     "end_time": "2018-06-27T22:07:39.691973Z",
     "start_time": "2018-06-27T22:07:39.683663Z"
    }
   },
   "outputs": [],
   "source": []
  },
  {
   "cell_type": "code",
   "execution_count": null,
   "metadata": {},
   "outputs": [],
   "source": []
  }
 ],
 "metadata": {
  "hide_input": false,
  "kernelspec": {
   "display_name": "Python 3",
   "language": "python",
   "name": "python3"
  },
  "language_info": {
   "codemirror_mode": {
    "name": "ipython",
    "version": 3
   },
   "file_extension": ".py",
   "mimetype": "text/x-python",
   "name": "python",
   "nbconvert_exporter": "python",
   "pygments_lexer": "ipython3",
   "version": "3.6.5"
  },
  "varInspector": {
   "cols": {
    "lenName": 16,
    "lenType": 16,
    "lenVar": 40
   },
   "kernels_config": {
    "python": {
     "delete_cmd_postfix": "",
     "delete_cmd_prefix": "del ",
     "library": "var_list.py",
     "varRefreshCmd": "print(var_dic_list())"
    },
    "r": {
     "delete_cmd_postfix": ") ",
     "delete_cmd_prefix": "rm(",
     "library": "var_list.r",
     "varRefreshCmd": "cat(var_dic_list()) "
    }
   },
   "position": {
    "height": "429px",
    "left": "1542px",
    "right": "20px",
    "top": "163px",
    "width": "355px"
   },
   "types_to_exclude": [
    "module",
    "function",
    "builtin_function_or_method",
    "instance",
    "_Feature"
   ],
   "window_display": true
  }
 },
 "nbformat": 4,
 "nbformat_minor": 2
}
