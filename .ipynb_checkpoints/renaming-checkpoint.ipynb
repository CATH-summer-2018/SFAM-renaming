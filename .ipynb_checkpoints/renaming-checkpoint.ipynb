{
 "cells": [
  {
   "cell_type": "code",
   "execution_count": 5,
   "metadata": {
    "ExecuteTime": {
     "end_time": "2018-06-28T13:27:54.909334Z",
     "start_time": "2018-06-28T13:27:54.901812Z"
    },
    "init_cell": true
   },
   "outputs": [],
   "source": [
    "import pandas as pd\n",
    "import numpy as np\n",
    "from CATH_parser import *\n",
    "from pprint import pprint\n",
    "import warnings\n",
    "warnings.filterwarnings('ignore')"
   ]
  },
  {
   "cell_type": "markdown",
   "metadata": {},
   "source": [
    "# Guidelines for the Standardisation of InterPro Entry Names and Short Names:\n",
    "\n",
    "## Long Names\n",
    "\n",
    "### Must be no more than 100 characters\n",
    "\n",
    "### Must be unique\n",
    "\n",
    "### Must start with upper case (unless initial term represents an accepted and common abbreviation, e.g. tRNA, rRNA, cAMP)\n",
    "\n",
    "* Only capitalise proper nouns within the name (e.g. Gram)\n",
    "\n",
    "* Gene product abbreviations, the first and last letter should be capitalised: AbcA; this is irrespective of the genome nomenclature standards for individual organisms.\n",
    "\n",
    "#### Can contain the following grammatical symbols:\n",
    "\n",
    "* Slash - / represents 'or' or 'and', e.g. subunits B/E, alpha/beta, 1/2\n",
    "\n",
    "* Prime - ' and brackets: (),[] can be used in enzyme or chemical terms\n",
    "\n",
    "* Hyphen, can be used as a modifier, e.g. Abc1-like, archaeal-like\n",
    "\n",
    "#### Must not contain the following grammatical symbols:\n",
    "\n",
    "* underscore\n",
    "\n",
    "* dash\n",
    "\n",
    "* mathematical symbols +, -, *, \\\n",
    "\n",
    "* colon\n",
    "\n",
    "* semi-colon\n",
    "\n",
    "#### Must not contains the following words:\n",
    "\n",
    "* plurals e.g. proteins, subunits\n",
    "\n",
    "* with\n",
    "\n",
    "* within\n",
    "\n",
    "* on\n",
    "\n",
    "* an\n",
    "\n",
    "* to\n",
    "\n",
    "* in\n",
    "\n",
    "* involved\n",
    "\n",
    "* protein - unless it is specifically part of the Name e.g. Uncharacterised conserved protein (UCP), Vacuolar protein sorting (Vps)\n",
    "\n",
    "* CONJUNCTIONS: for, and, nor, but, or, so\n",
    "\n",
    "#### Avoid referring to the following, unless this is accurate representation of the protein family name:\n",
    "\n",
    "* organs\n",
    "\n",
    "* tissue types\n",
    "\n",
    "* cell types\n",
    "\n",
    "#### Generally avoid the use of the following terms:\n",
    "\n",
    "* precursor\n",
    "\n",
    "* homolog\n",
    "\n",
    "* paralog\n",
    "\n",
    "* ortholog\n",
    "\n",
    "* gene\n",
    "\n",
    "#### Positional restraints; names should not begin with:\n",
    "\n",
    "* Predicted\n",
    "\n",
    "* Probable\n",
    "\n",
    "* Putative\n",
    "\n",
    "#### Modifiers\n",
    "\n",
    "* type\n",
    "\n",
    "* related,\n",
    "\n",
    "* associated\n",
    "\n",
    "#### These should ONLY be used with a hyphen, attached to the term they are intended to modify, e.g. bacterial-type, Abc1-related, Vps21-associated.\n",
    "\n",
    "##### Avoid acronyms and abbreviations in names wherever possible\n",
    "\n",
    "* Exceptions are the use of abbreviations used for protein COMPLEXs, for example:\n",
    "\n",
    "* DASH complex, subunit Spc19\n",
    "\n",
    "* MRN complex, subunit Mre11\n",
    "\n",
    "### Name structure\n",
    "\n",
    "#### Order the name with the most general classification first, going to the most specific, with taxonomy at the end (taxonomy to be added only if necessary to distinguish one entry from another):\n",
    "\n",
    "* STEM (class/family/protein name), SUBDIVISION (type, subunit, example gene-product name), POSITION (C/N-terminal), TAXONOMY\n",
    "\n",
    "* Use the terms site, domain, family and superfamily where these names accurately describe the biology (e.g. SH2 domain describes a known domain)\n",
    "\n",
    "* Separate parts of names using commas\n",
    "\n",
    "* Regarding, taxonomy, this should only be used if it is necessary to specify a particular lineage. For example:\n",
    "\n",
    "* RNA polymerase alpha subunit, C-terminal, archaea\n",
    "\n",
    "* Phosphoenolpyruvate carboxylase, archaeal-type\n",
    "\n",
    "* Phosphoenolpyruvate carboxylase, bacterial/plant-type\n",
    "\n",
    "#### Name conventions for uncharacterised families/domains:\n",
    "\n",
    "* Protein/Domain of unknown function DUFnnnnn = Pfam (note n= numeric character)\n",
    "\n",
    "* DUF numbering is provided by Pfam\n",
    "\n",
    "* Uncharacterised conserved protein UCPnnnnnn = PIRSF\n",
    "\n",
    "* UCPnnnnnn, numbering is taken from the method accession (PIRSF006287 = UCP006287). Either provided by PIR or added by InterPro where applicable.\n",
    "\n",
    "* Conserved hypothetical protein CHPnnnnn = TIGRFAMs\n",
    "\n",
    "* CHPnnnnn, numbering is taken from the method accession (TIGR01620 = CHP01620). Either provided by TIGR or added by InterPro where applicable.\n",
    "\n",
    "* Uncharacterised protein family UPFnnnn = Swiss-Prot\n",
    "\n",
    "* UPFnnnn, numbering is provide Swiss-Prot.\n",
    "\n",
    "* also used by Pfam when they model Swiss-Prot families.\n",
    "\n",
    "* Where a set of UPF Swiss-Prot entries are deemed to be representative of the InterPro entry the Swiss-Prot naming convention will be used in preference to the member database convention for families of unknown function.\n",
    "\n",
    "* Uncharacterised protein family <text>, <modifier> = InterPro\n",
    "\n",
    "* Uncharacterised_<text/modifier>\n",
    "\n",
    "* For use where a member database family does not use its own format for an entry where the contents have no known function."
   ]
  },
  {
   "cell_type": "code",
   "execution_count": null,
   "metadata": {
    "ExecuteTime": {
     "end_time": "2018-06-28T10:51:22.975546Z",
     "start_time": "2018-06-28T10:51:22.850455Z"
    },
    "deletable": false,
    "editable": false,
    "run_control": {
     "frozen": true
    }
   },
   "outputs": [],
   "source": [
    "!wget ftp://orengoftp.biochem.ucl.ac.uk/cath/releases/latest-release/cath-classification-data/cath-superfamily-list.txt\n",
    "\n",
    "!tail -n +7 cath-superfamily-list.txt > parsed_list.txt"
   ]
  },
  {
   "cell_type": "code",
   "execution_count": 3,
   "metadata": {
    "ExecuteTime": {
     "end_time": "2018-06-28T13:27:29.486003Z",
     "start_time": "2018-06-28T13:27:29.439683Z"
    }
   },
   "outputs": [],
   "source": [
    "df = pd.read_csv(\"./parsed_list.txt\", sep='\\t',index_col=0)\n",
    "df = df.dropna()\n",
    "df['COMMENT'] = np.nan\n",
    "D = DataFrame_parser(df)"
   ]
  },
  {
   "cell_type": "code",
   "execution_count": 4,
   "metadata": {
    "ExecuteTime": {
     "end_time": "2018-06-28T13:27:30.038290Z",
     "start_time": "2018-06-28T13:27:29.987113Z"
    }
   },
   "outputs": [
    {
     "ename": "NameError",
     "evalue": "name 'df' is not defined",
     "output_type": "error",
     "traceback": [
      "\u001b[0;31m---------------------------------------------------------------------------\u001b[0m",
      "\u001b[0;31mNameError\u001b[0m                                 Traceback (most recent call last)",
      "\u001b[0;32m<ipython-input-4-c55216926597>\u001b[0m in \u001b[0;36m<module>\u001b[0;34m()\u001b[0m\n\u001b[0;32m----> 1\u001b[0;31m \u001b[0mD\u001b[0m\u001b[0;34m.\u001b[0m\u001b[0mimplement_replacements\u001b[0m\u001b[0;34m(\u001b[0m\u001b[0;34m)\u001b[0m\u001b[0;34m.\u001b[0m\u001b[0mdropna\u001b[0m\u001b[0;34m(\u001b[0m\u001b[0;34m)\u001b[0m\u001b[0;34m.\u001b[0m\u001b[0mto_csv\u001b[0m\u001b[0;34m(\u001b[0m\u001b[0;34m'./results/renamed_superfamilies.tsv'\u001b[0m\u001b[0;34m,\u001b[0m \u001b[0msep\u001b[0m\u001b[0;34m=\u001b[0m\u001b[0;34m'\\t'\u001b[0m\u001b[0;34m)\u001b[0m\u001b[0;34m\u001b[0m\u001b[0m\n\u001b[0m\u001b[1;32m      2\u001b[0m \u001b[0mD\u001b[0m\u001b[0;34m.\u001b[0m\u001b[0mimplement_duplicates\u001b[0m\u001b[0;34m(\u001b[0m\u001b[0;34m)\u001b[0m\u001b[0;34m.\u001b[0m\u001b[0mto_csv\u001b[0m\u001b[0;34m(\u001b[0m\u001b[0;34m'./results/duplicates.tsv'\u001b[0m\u001b[0;34m,\u001b[0m \u001b[0msep\u001b[0m\u001b[0;34m=\u001b[0m\u001b[0;34m'\\t'\u001b[0m\u001b[0;34m)\u001b[0m\u001b[0;34m\u001b[0m\u001b[0m\n\u001b[1;32m      3\u001b[0m \u001b[0mD\u001b[0m\u001b[0;34m.\u001b[0m\u001b[0mcompile_flags\u001b[0m\u001b[0;34m(\u001b[0m\u001b[0;34m)\u001b[0m\u001b[0;34m.\u001b[0m\u001b[0mdropna\u001b[0m\u001b[0;34m(\u001b[0m\u001b[0;34m)\u001b[0m\u001b[0;34m.\u001b[0m\u001b[0mto_csv\u001b[0m\u001b[0;34m(\u001b[0m\u001b[0;34m'./results/flagged.tsv'\u001b[0m\u001b[0;34m,\u001b[0m \u001b[0msep\u001b[0m\u001b[0;34m=\u001b[0m\u001b[0;34m'\\t'\u001b[0m\u001b[0;34m)\u001b[0m\u001b[0;34m\u001b[0m\u001b[0m\n",
      "\u001b[0;32m~/Projects/CATH_2018/SFAM-renaming/CATH_parser.py\u001b[0m in \u001b[0;36mimplement_replacements\u001b[0;34m(self)\u001b[0m\n\u001b[1;32m     35\u001b[0m         \u001b[0mret_df\u001b[0m \u001b[0;34m=\u001b[0m \u001b[0mself\u001b[0m\u001b[0;34m.\u001b[0m\u001b[0mdf\u001b[0m\u001b[0;34m[\u001b[0m\u001b[0;34m[\u001b[0m\u001b[0;34m'NAME'\u001b[0m\u001b[0;34m,\u001b[0m\u001b[0;34m'COMMENT'\u001b[0m\u001b[0;34m]\u001b[0m\u001b[0;34m]\u001b[0m\u001b[0;34m\u001b[0m\u001b[0m\n\u001b[1;32m     36\u001b[0m         \u001b[0mret_df\u001b[0m\u001b[0;34m[\u001b[0m\u001b[0;34m'NEW_NAME'\u001b[0m\u001b[0;34m]\u001b[0m \u001b[0;34m=\u001b[0m \u001b[0mret_df\u001b[0m\u001b[0;34m[\u001b[0m\u001b[0;34m'NAME'\u001b[0m\u001b[0;34m]\u001b[0m\u001b[0;34m\u001b[0m\u001b[0m\n\u001b[0;32m---> 37\u001b[0;31m         \u001b[0;32mfor\u001b[0m \u001b[0mr\u001b[0m\u001b[0;34m,\u001b[0m \u001b[0mc\u001b[0m \u001b[0;32min\u001b[0m \u001b[0;34m[\u001b[0m\u001b[0mself\u001b[0m\u001b[0;34m.\u001b[0m\u001b[0msemicolon\u001b[0m\u001b[0;34m(\u001b[0m\u001b[0;34m)\u001b[0m\u001b[0;34m,\u001b[0m \u001b[0mself\u001b[0m\u001b[0;34m.\u001b[0m\u001b[0mlowercase_start\u001b[0m\u001b[0;34m(\u001b[0m\u001b[0;34m)\u001b[0m\u001b[0;34m,\u001b[0m \u001b[0mself\u001b[0m\u001b[0;34m.\u001b[0m\u001b[0mother_stop\u001b[0m\u001b[0;34m(\u001b[0m\u001b[0;34m)\u001b[0m\u001b[0;34m,\u001b[0m \u001b[0mself\u001b[0m\u001b[0;34m.\u001b[0m\u001b[0mtrailing_stop\u001b[0m\u001b[0;34m(\u001b[0m\u001b[0;34m)\u001b[0m\u001b[0;34m]\u001b[0m\u001b[0;34m:\u001b[0m\u001b[0;34m\u001b[0m\u001b[0m\n\u001b[0m\u001b[1;32m     38\u001b[0m             \u001b[0mret_df\u001b[0m\u001b[0;34m[\u001b[0m\u001b[0;34m'NEW_NAME'\u001b[0m\u001b[0;34m]\u001b[0m \u001b[0;34m=\u001b[0m \u001b[0mr\u001b[0m\u001b[0;34m.\u001b[0m\u001b[0mcombine_first\u001b[0m\u001b[0;34m(\u001b[0m\u001b[0mret_df\u001b[0m\u001b[0;34m[\u001b[0m\u001b[0;34m'NEW_NAME'\u001b[0m\u001b[0;34m]\u001b[0m\u001b[0;34m)\u001b[0m\u001b[0;34m\u001b[0m\u001b[0m\n\u001b[1;32m     39\u001b[0m             \u001b[0mret_df\u001b[0m\u001b[0;34m[\u001b[0m\u001b[0;34m'COMMENT'\u001b[0m\u001b[0;34m]\u001b[0m \u001b[0;34m=\u001b[0m \u001b[0mc\u001b[0m\u001b[0;34m.\u001b[0m\u001b[0mcombine\u001b[0m\u001b[0;34m(\u001b[0m\u001b[0mret_df\u001b[0m\u001b[0;34m[\u001b[0m\u001b[0;34m'COMMENT'\u001b[0m\u001b[0;34m]\u001b[0m\u001b[0;34m,\u001b[0m \u001b[0;32mlambda\u001b[0m \u001b[0mc\u001b[0m\u001b[0;34m,\u001b[0m \u001b[0mr\u001b[0m\u001b[0;34m:\u001b[0m\u001b[0mstr\u001b[0m\u001b[0;34m(\u001b[0m\u001b[0mc\u001b[0m\u001b[0;34m)\u001b[0m\u001b[0;34m+\u001b[0m\u001b[0mstr\u001b[0m\u001b[0;34m(\u001b[0m\u001b[0mr\u001b[0m\u001b[0;34m)\u001b[0m\u001b[0;34m)\u001b[0m\u001b[0;34m\u001b[0m\u001b[0m\n",
      "\u001b[0;32m~/Projects/CATH_2018/SFAM-renaming/CATH_parser.py\u001b[0m in \u001b[0;36mlowercase_start\u001b[0;34m(self)\u001b[0m\n\u001b[1;32m     14\u001b[0m \u001b[0;34m\u001b[0m\u001b[0m\n\u001b[1;32m     15\u001b[0m     \u001b[0;32mdef\u001b[0m \u001b[0mlowercase_start\u001b[0m\u001b[0;34m(\u001b[0m\u001b[0mself\u001b[0m\u001b[0;34m)\u001b[0m\u001b[0;34m:\u001b[0m \u001b[0;31m#replace lowercase start with capital\u001b[0m\u001b[0;34m\u001b[0m\u001b[0m\n\u001b[0;32m---> 16\u001b[0;31m         \u001b[0mst_lower\u001b[0m \u001b[0;34m=\u001b[0m \u001b[0mdf\u001b[0m\u001b[0;34m[\u001b[0m\u001b[0mdf\u001b[0m\u001b[0;34m[\u001b[0m\u001b[0;34m'NAME'\u001b[0m\u001b[0;34m]\u001b[0m\u001b[0;34m.\u001b[0m\u001b[0mstr\u001b[0m\u001b[0;34m[\u001b[0m\u001b[0;36m0\u001b[0m\u001b[0;34m]\u001b[0m\u001b[0;34m.\u001b[0m\u001b[0mstr\u001b[0m\u001b[0;34m.\u001b[0m\u001b[0mislower\u001b[0m\u001b[0;34m(\u001b[0m\u001b[0;34m)\u001b[0m\u001b[0;34m]\u001b[0m\u001b[0;34m[\u001b[0m\u001b[0;34m'NAME'\u001b[0m\u001b[0;34m]\u001b[0m\u001b[0;34m\u001b[0m\u001b[0m\n\u001b[0m\u001b[1;32m     17\u001b[0m         \u001b[0mst_lower\u001b[0m \u001b[0;34m=\u001b[0m \u001b[0mst_lower\u001b[0m\u001b[0;34m.\u001b[0m\u001b[0mmask\u001b[0m\u001b[0;34m(\u001b[0m\u001b[0mst_lower\u001b[0m\u001b[0;34m.\u001b[0m\u001b[0mstr\u001b[0m\u001b[0;34m.\u001b[0m\u001b[0mcontains\u001b[0m\u001b[0;34m(\u001b[0m\u001b[0;34mr'^[m|t|r|ss|ds][R|D]NA|^cAMP'\u001b[0m\u001b[0;34m,\u001b[0m \u001b[0mregex\u001b[0m\u001b[0;34m=\u001b[0m\u001b[0;32mTrue\u001b[0m\u001b[0;34m)\u001b[0m\u001b[0;34m)\u001b[0m\u001b[0;34m.\u001b[0m\u001b[0mdropna\u001b[0m\u001b[0;34m(\u001b[0m\u001b[0;34m)\u001b[0m\u001b[0;34m\u001b[0m\u001b[0m\n\u001b[1;32m     18\u001b[0m         \u001b[0mret\u001b[0m \u001b[0;34m=\u001b[0m \u001b[0mst_lower\u001b[0m\u001b[0;34m.\u001b[0m\u001b[0mstr\u001b[0m\u001b[0;34m[\u001b[0m\u001b[0;36m0\u001b[0m\u001b[0;34m]\u001b[0m\u001b[0;34m.\u001b[0m\u001b[0mstr\u001b[0m\u001b[0;34m.\u001b[0m\u001b[0mupper\u001b[0m\u001b[0;34m(\u001b[0m\u001b[0;34m)\u001b[0m \u001b[0;34m+\u001b[0m \u001b[0mst_lower\u001b[0m\u001b[0;34m.\u001b[0m\u001b[0mstr\u001b[0m\u001b[0;34m[\u001b[0m\u001b[0;36m1\u001b[0m\u001b[0;34m:\u001b[0m\u001b[0;34m]\u001b[0m\u001b[0;34m\u001b[0m\u001b[0m\n",
      "\u001b[0;31mNameError\u001b[0m: name 'df' is not defined"
     ]
    }
   ],
   "source": [
    "D.implement_replacements().dropna().to_csv('./results/renamed_superfamilies.tsv', sep='\\t')\n",
    "D.implement_duplicates().to_csv('./results/duplicates.tsv', sep='\\t')\n",
    "D.compile_flags().dropna().to_csv('./results/flagged.tsv', sep='\\t')"
   ]
  },
  {
   "cell_type": "code",
   "execution_count": null,
   "metadata": {},
   "outputs": [],
   "source": []
  }
 ],
 "metadata": {
  "hide_input": false,
  "kernelspec": {
   "display_name": "Python 3",
   "language": "python",
   "name": "python3"
  },
  "language_info": {
   "codemirror_mode": {
    "name": "ipython",
    "version": 3
   },
   "file_extension": ".py",
   "mimetype": "text/x-python",
   "name": "python",
   "nbconvert_exporter": "python",
   "pygments_lexer": "ipython3",
   "version": "3.6.5"
  },
  "varInspector": {
   "cols": {
    "lenName": 16,
    "lenType": 16,
    "lenVar": 40
   },
   "kernels_config": {
    "python": {
     "delete_cmd_postfix": "",
     "delete_cmd_prefix": "del ",
     "library": "var_list.py",
     "varRefreshCmd": "print(var_dic_list())"
    },
    "r": {
     "delete_cmd_postfix": ") ",
     "delete_cmd_prefix": "rm(",
     "library": "var_list.r",
     "varRefreshCmd": "cat(var_dic_list()) "
    }
   },
   "position": {
    "height": "429px",
    "left": "1542px",
    "right": "20px",
    "top": "163px",
    "width": "355px"
   },
   "types_to_exclude": [
    "module",
    "function",
    "builtin_function_or_method",
    "instance",
    "_Feature"
   ],
   "window_display": true
  }
 },
 "nbformat": 4,
 "nbformat_minor": 2
}
