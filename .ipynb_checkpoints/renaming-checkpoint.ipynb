{
 "cells": [
  {
   "cell_type": "code",
   "execution_count": 1,
   "metadata": {
    "ExecuteTime": {
     "end_time": "2018-07-10T16:59:49.959948Z",
     "start_time": "2018-07-10T16:59:49.660657Z"
    },
    "init_cell": true
   },
   "outputs": [],
   "source": [
    "from CATH_parser import *\n",
    "from pprint import pprint\n",
    "import matplotlib\n",
    "import matplotlib.pyplot as plt\n",
    "%matplotlib inline\n",
    "import warnings\n",
    "warnings.filterwarnings('ignore')"
   ]
  },
  {
   "cell_type": "markdown",
   "metadata": {},
   "source": [
    "# Guidelines for the Standardisation of InterPro Entry Names and Short Names:\n",
    "\n",
    "## Long Names\n",
    "\n",
    "### Must be no more than 100 characters\n",
    "\n",
    "### Must be unique\n",
    "\n",
    "### Must start with upper case (unless initial term represents an accepted and common abbreviation, e.g. tRNA, rRNA, cAMP)\n",
    "\n",
    "* Only capitalise proper nouns within the name (e.g. Gram)\n",
    "\n",
    "* Gene product abbreviations, the first and last letter should be capitalised: AbcA; this is irrespective of the genome nomenclature standards for individual organisms.\n",
    "\n",
    "#### Can contain the following grammatical symbols:\n",
    "\n",
    "* Slash - / represents 'or' or 'and', e.g. subunits B/E, alpha/beta, 1/2\n",
    "\n",
    "* Prime - ' and brackets: (),[] can be used in enzyme or chemical terms\n",
    "\n",
    "* Hyphen, can be used as a modifier, e.g. Abc1-like, archaeal-like\n",
    "\n",
    "#### Must not contain the following grammatical symbols:\n",
    "\n",
    "* underscore\n",
    "\n",
    "* dash\n",
    "\n",
    "* mathematical symbols +, -, *, \\\n",
    "\n",
    "* colon\n",
    "\n",
    "* semi-colon\n",
    "\n",
    "#### Must not contains the following words:\n",
    "\n",
    "* plurals e.g. proteins, subunits\n",
    "\n",
    "* with\n",
    "\n",
    "* within\n",
    "\n",
    "* on\n",
    "\n",
    "* an\n",
    "\n",
    "* to\n",
    "\n",
    "* in\n",
    "\n",
    "* involved\n",
    "\n",
    "* protein - unless it is specifically part of the Name e.g. Uncharacterised conserved protein (UCP), Vacuolar protein sorting (Vps)\n",
    "\n",
    "* CONJUNCTIONS: for, and, nor, but, or, so\n",
    "\n",
    "#### Avoid referring to the following, unless this is accurate representation of the protein family name:\n",
    "\n",
    "* organs\n",
    "\n",
    "* tissue types\n",
    "\n",
    "* cell types\n",
    "\n",
    "#### Generally avoid the use of the following terms:\n",
    "\n",
    "* precursor\n",
    "\n",
    "* homolog\n",
    "\n",
    "* paralog\n",
    "\n",
    "* ortholog\n",
    "\n",
    "* gene\n",
    "\n",
    "#### Positional restraints; names should not begin with:\n",
    "\n",
    "* Predicted\n",
    "\n",
    "* Probable\n",
    "\n",
    "* Putative\n",
    "\n",
    "#### Modifiers\n",
    "\n",
    "* type\n",
    "\n",
    "* related,\n",
    "\n",
    "* associated\n",
    "\n",
    "#### These should ONLY be used with a hyphen, attached to the term they are intended to modify, e.g. bacterial-type, Abc1-related, Vps21-associated.\n",
    "\n",
    "##### Avoid acronyms and abbreviations in names wherever possible\n",
    "\n",
    "* Exceptions are the use of abbreviations used for protein COMPLEXs, for example:\n",
    "\n",
    "* DASH complex, subunit Spc19\n",
    "\n",
    "* MRN complex, subunit Mre11\n",
    "\n",
    "### Name structure\n",
    "\n",
    "#### Order the name with the most general classification first, going to the most specific, with taxonomy at the end (taxonomy to be added only if necessary to distinguish one entry from another):\n",
    "\n",
    "* STEM (class/family/protein name), SUBDIVISION (type, subunit, example gene-product name), POSITION (C/N-terminal), TAXONOMY\n",
    "\n",
    "* Use the terms site, domain, family and superfamily where these names accurately describe the biology (e.g. SH2 domain describes a known domain)\n",
    "\n",
    "* Separate parts of names using commas\n",
    "\n",
    "* Regarding, taxonomy, this should only be used if it is necessary to specify a particular lineage. For example:\n",
    "\n",
    "* RNA polymerase alpha subunit, C-terminal, archaea\n",
    "\n",
    "* Phosphoenolpyruvate carboxylase, archaeal-type\n",
    "\n",
    "* Phosphoenolpyruvate carboxylase, bacterial/plant-type\n",
    "\n",
    "#### Name conventions for uncharacterised families/domains:\n",
    "\n",
    "* Protein/Domain of unknown function DUFnnnnn = Pfam (note n= numeric character)\n",
    "\n",
    "* DUF numbering is provided by Pfam\n",
    "\n",
    "* Uncharacterised conserved protein UCPnnnnnn = PIRSF\n",
    "\n",
    "* UCPnnnnnn, numbering is taken from the method accession (PIRSF006287 = UCP006287). Either provided by PIR or added by InterPro where applicable.\n",
    "\n",
    "* Conserved hypothetical protein CHPnnnnn = TIGRFAMs\n",
    "\n",
    "* CHPnnnnn, numbering is taken from the method accession (TIGR01620 = CHP01620). Either provided by TIGR or added by InterPro where applicable.\n",
    "\n",
    "* Uncharacterised protein family UPFnnnn = Swiss-Prot\n",
    "\n",
    "* UPFnnnn, numbering is provide Swiss-Prot.\n",
    "\n",
    "* also used by Pfam when they model Swiss-Prot families.\n",
    "\n",
    "* Where a set of UPF Swiss-Prot entries are deemed to be representative of the InterPro entry the Swiss-Prot naming convention will be used in preference to the member database convention for families of unknown function.\n",
    "\n",
    "* Uncharacterised protein family <text>, <modifier> = InterPro\n",
    "\n",
    "* Uncharacterised_<text/modifier>\n",
    "\n",
    "* For use where a member database family does not use its own format for an entry where the contents have no known function."
   ]
  },
  {
   "cell_type": "code",
   "execution_count": null,
   "metadata": {
    "ExecuteTime": {
     "end_time": "2018-07-10T11:37:14.055924Z",
     "start_time": "2018-07-10T11:37:13.867908Z"
    },
    "deletable": false,
    "editable": false,
    "run_control": {
     "frozen": true
    }
   },
   "outputs": [],
   "source": [
    "!wget ftp://orengoftp.biochem.ucl.ac.uk/cath/releases/latest-release/cath-classification-data/cath-superfamily-list.txt"
   ]
  },
  {
   "cell_type": "code",
   "execution_count": 3,
   "metadata": {
    "ExecuteTime": {
     "end_time": "2018-07-10T17:00:08.044997Z",
     "start_time": "2018-07-10T17:00:08.011324Z"
    }
   },
   "outputs": [],
   "source": [
    "df = pd.read_csv(\"./cath-superfamily-list.txt\", sep='\\t',index_col=0, header=0)\n",
    "df = df.dropna()\n",
    "df['COMMENT'] = np.nan\n",
    "D = DataFrame_parser(df)"
   ]
  },
  {
   "cell_type": "code",
   "execution_count": 4,
   "metadata": {
    "ExecuteTime": {
     "end_time": "2018-07-10T17:00:18.953384Z",
     "start_time": "2018-07-10T17:00:16.827059Z"
    }
   },
   "outputs": [],
   "source": [
    "implement_replacements(df).dropna().to_csv('./results/renamed_superfamilies.tsv', sep='\\t')\n",
    "D.implement_duplicates().to_csv('./results/duplicates.tsv', sep='\\t')\n",
    "D.compile_flags().dropna().to_csv('./results/flagged.tsv', sep='\\t')"
   ]
  },
  {
   "cell_type": "code",
   "execution_count": 7,
   "metadata": {
    "ExecuteTime": {
     "end_time": "2018-07-10T17:00:38.001933Z",
     "start_time": "2018-07-10T17:00:36.120472Z"
    },
    "scrolled": true
   },
   "outputs": [
    {
     "ename": "KeyError",
     "evalue": "'SR'",
     "output_type": "error",
     "traceback": [
      "\u001b[0;31m---------------------------------------------------------------------------\u001b[0m",
      "\u001b[0;31mKeyError\u001b[0m                                  Traceback (most recent call last)",
      "\u001b[0;32m<ipython-input-7-0fa6e3d348c6>\u001b[0m in \u001b[0;36m<module>\u001b[0;34m()\u001b[0m\n\u001b[1;32m     17\u001b[0m          \u001b[0msavedname\u001b[0m\u001b[0;34m=\u001b[0m\u001b[0;34m'./plots/replacement.png'\u001b[0m\u001b[0;34m,\u001b[0m\u001b[0;34m\u001b[0m\u001b[0m\n\u001b[1;32m     18\u001b[0m          \u001b[0mtitle\u001b[0m\u001b[0;34m=\u001b[0m\u001b[0;34m'Replacements by action performed'\u001b[0m\u001b[0;34m,\u001b[0m\u001b[0;34m\u001b[0m\u001b[0m\n\u001b[0;32m---> 19\u001b[0;31m          legend=repl_labels)\n\u001b[0m\u001b[1;32m     20\u001b[0m plot_pie(D.compile_flags(),\n\u001b[1;32m     21\u001b[0m         \u001b[0msavedname\u001b[0m\u001b[0;34m=\u001b[0m\u001b[0;34m'./plots/flags.png'\u001b[0m\u001b[0;34m,\u001b[0m\u001b[0;34m\u001b[0m\u001b[0m\n",
      "\u001b[0;32m~/Projects/CATH_2018/SFAM-renaming/CATH_parser.py\u001b[0m in \u001b[0;36mplot_pie\u001b[0;34m(func, savedname, title, legend)\u001b[0m\n\u001b[1;32m     73\u001b[0m           autopct='%1.1f%%')\n\u001b[1;32m     74\u001b[0m     \u001b[0mhandles\u001b[0m\u001b[0;34m,\u001b[0m \u001b[0mlabels\u001b[0m \u001b[0;34m=\u001b[0m \u001b[0max\u001b[0m\u001b[0;34m.\u001b[0m\u001b[0mget_legend_handles_labels\u001b[0m\u001b[0;34m(\u001b[0m\u001b[0;34m)\u001b[0m\u001b[0;34m\u001b[0m\u001b[0m\n\u001b[0;32m---> 75\u001b[0;31m     ax.legend(handles, [legend[a] for a in labels], bbox_to_anchor=(1, 1),\n\u001b[0m\u001b[1;32m     76\u001b[0m            bbox_transform=plt.gcf().transFigure)\n\u001b[1;32m     77\u001b[0m     \u001b[0;32mif\u001b[0m \u001b[0mtitle\u001b[0m\u001b[0;34m:\u001b[0m\u001b[0;34m\u001b[0m\u001b[0m\n",
      "\u001b[0;32m~/Projects/CATH_2018/SFAM-renaming/CATH_parser.py\u001b[0m in \u001b[0;36m<listcomp>\u001b[0;34m(.0)\u001b[0m\n\u001b[1;32m     73\u001b[0m           autopct='%1.1f%%')\n\u001b[1;32m     74\u001b[0m     \u001b[0mhandles\u001b[0m\u001b[0;34m,\u001b[0m \u001b[0mlabels\u001b[0m \u001b[0;34m=\u001b[0m \u001b[0max\u001b[0m\u001b[0;34m.\u001b[0m\u001b[0mget_legend_handles_labels\u001b[0m\u001b[0;34m(\u001b[0m\u001b[0;34m)\u001b[0m\u001b[0;34m\u001b[0m\u001b[0m\n\u001b[0;32m---> 75\u001b[0;31m     ax.legend(handles, [legend[a] for a in labels], bbox_to_anchor=(1, 1),\n\u001b[0m\u001b[1;32m     76\u001b[0m            bbox_transform=plt.gcf().transFigure)\n\u001b[1;32m     77\u001b[0m     \u001b[0;32mif\u001b[0m \u001b[0mtitle\u001b[0m\u001b[0;34m:\u001b[0m\u001b[0;34m\u001b[0m\u001b[0m\n",
      "\u001b[0;31mKeyError\u001b[0m: 'SR'"
     ]
    },
    {
     "data": {
      "image/png": "[encoded data removed]",
      "text/plain": [
       "<Figure size 720x720 with 1 Axes>"
      ]
     },
     "metadata": {},
     "output_type": "display_data"
    }
   ],
   "source": [
    "repl_labels = {\"L\":\"Lowercase\", \n",
    "               \"S\": 'Semicolon', \n",
    "               \"C\":'Stop', \n",
    "               \"T\":'Trailing', \n",
    "               \"W\": 'Whitespace',\n",
    "               \"R\": \"Capitals\",\n",
    "               'Else':'Else'}\n",
    "\n",
    "flag_labels = {\"F\":\"Forbidden\", \n",
    "               \"S\":'Starting', \n",
    "               \"U\":'Underscore', \n",
    "               \"W\":'Unpreferred', \n",
    "               \"P\":'Plus',\n",
    "              \"Else\":\"Else\"}\n",
    "\n",
    "plot_pie(implement_replacements(df), \n",
    "         savedname='./plots/replacement.png', \n",
    "         title='Replacements by action performed', \n",
    "         legend=repl_labels)\n",
    "plot_pie(D.compile_flags(),\n",
    "        savedname='./plots/flags.png',\n",
    "        title='Flags by type',\n",
    "        legend=flag_labels)"
   ]
  },
  {
   "cell_type": "code",
   "execution_count": null,
   "metadata": {},
   "outputs": [],
   "source": []
  }
 ],
 "metadata": {
  "hide_input": false,
  "kernelspec": {
   "display_name": "Python 3",
   "language": "python",
   "name": "python3"
  },
  "language_info": {
   "codemirror_mode": {
    "name": "ipython",
    "version": 3
   },
   "file_extension": ".py",
   "mimetype": "text/x-python",
   "name": "python",
   "nbconvert_exporter": "python",
   "pygments_lexer": "ipython3",
   "version": "3.6.5"
  },
  "varInspector": {
   "cols": {
    "lenName": 16,
    "lenType": 16,
    "lenVar": 40
   },
   "kernels_config": {
    "python": {
     "delete_cmd_postfix": "",
     "delete_cmd_prefix": "del ",
     "library": "var_list.py",
     "varRefreshCmd": "print(var_dic_list())"
    },
    "r": {
     "delete_cmd_postfix": ") ",
     "delete_cmd_prefix": "rm(",
     "library": "var_list.r",
     "varRefreshCmd": "cat(var_dic_list()) "
    }
   },
   "position": {
    "height": "429px",
    "left": "1542px",
    "right": "20px",
    "top": "163px",
    "width": "355px"
   },
   "types_to_exclude": [
    "module",
    "function",
    "builtin_function_or_method",
    "instance",
    "_Feature"
   ],
   "window_display": true
  }
 },
 "nbformat": 4,
 "nbformat_minor": 2
}
