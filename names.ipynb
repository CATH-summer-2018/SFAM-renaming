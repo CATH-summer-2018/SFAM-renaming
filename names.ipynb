{
 "cells": [
  {
   "cell_type": "code",
   "execution_count": 36,
   "metadata": {
    "ExecuteTime": {
     "end_time": "2018-06-28T15:58:10.856624Z",
     "start_time": "2018-06-28T15:58:10.841064Z"
    }
   },
   "outputs": [],
   "source": [
    "from CATH_parser import *\n",
    "from pprint import pprint\n",
    "import matplotlib\n",
    "import matplotlib.pyplot as plt\n",
    "%matplotlib inline\n",
    "import re\n",
    "import warnings\n",
    "warnings.filterwarnings('ignore')"
   ]
  },
  {
   "cell_type": "code",
   "execution_count": 13,
   "metadata": {
    "ExecuteTime": {
     "end_time": "2018-06-28T15:19:08.498923Z",
     "start_time": "2018-06-28T15:19:08.428362Z"
    }
   },
   "outputs": [],
   "source": [
    "df = pd.read_csv(\"./parsed_list.txt\", sep='\\t',index_col=0)\n",
    "df = df.dropna()\n",
    "df['COMMENT'] = np.nan"
   ]
  },
  {
   "cell_type": "code",
   "execution_count": 85,
   "metadata": {
    "ExecuteTime": {
     "end_time": "2018-06-28T16:20:22.923873Z",
     "start_time": "2018-06-28T16:20:22.917498Z"
    }
   },
   "outputs": [],
   "source": [
    "acronRegex = re.compile(r'\\w*[A-Z]\\w*[A-Z]\\w*|C-[T|t]erminal|N-[T|t]erminal')"
   ]
  },
  {
   "cell_type": "code",
   "execution_count": 86,
   "metadata": {
    "ExecuteTime": {
     "end_time": "2018-06-28T16:20:28.130624Z",
     "start_time": "2018-06-28T16:20:26.671892Z"
    }
   },
   "outputs": [],
   "source": [
    "new_column = pd.Series()\n",
    "for sfam in df.itertuples():\n",
    "    l = sfam.NAME.split()\n",
    "    new_name = [l[0]]\n",
    "    for word in l[1:]:\n",
    "        if acronRegex.search(word):\n",
    "            new_name.append(word)\n",
    "        else:\n",
    "            new_name.append(word.lower())\n",
    "    new_column[sfam.Index] = \" \".join(new_name)"
   ]
  },
  {
   "cell_type": "code",
   "execution_count": 87,
   "metadata": {
    "ExecuteTime": {
     "end_time": "2018-06-28T16:20:28.826752Z",
     "start_time": "2018-06-28T16:20:28.806495Z"
    }
   },
   "outputs": [
    {
     "data": {
      "text/plain": [
       "1.10.8.110        Photosystem i PsaF, reaction centre subunit III\n",
       "1.10.8.160                                DNA primase s; domain 2\n",
       "1.10.8.190      Carbon monoxide dehydrogenase alpha subunit. c...\n",
       "1.10.10.10      Winged helix-like DNA-binding domain superfami...\n",
       "1.10.10.250              Ribosomal protein l11, C-terminal domain\n",
       "1.10.10.430         Phosphatase 2c, C-terminal domain suprefamily\n",
       "1.10.10.460                            Ribonuclease hii. domain 2\n",
       "1.10.10.510                Zinc finger, large t-antigen d1 domain\n",
       "1.10.10.520     Ubiquitin activating enzymes (uba3). chain: b,...\n",
       "1.10.10.530                    mam-mhc complex, chain d, domain 2\n",
       "1.10.10.570     Winged helix DNA-binding domain. chain c. doma...\n",
       "1.10.10.580       Structural maintenance of chromosome 1. chain e\n",
       "1.10.10.650                                    RuvA domain 2-like\n",
       "1.10.10.660     conserved protein of unknown function from ent...\n",
       "1.10.10.670     photosystem ii from thermosynechococcus elongatus\n",
       "1.10.10.680     Hypothetical protein VC1899 (restriction endon...\n",
       "1.10.10.750                           Ypt/Rab-GAP domain of gyp1p\n",
       "1.10.10.760              E-set domains of sugar-utilizing enzymes\n",
       "1.10.12.10         Lyase 2-enoyl-coa hydratase, chain a, domain 2\n",
       "1.10.20.10                                     Histone, subunit a\n",
       "1.10.45.10            Vanillyl-alcohol oxidase; chain a, domain 4\n",
       "1.10.60.20                            Ribosomal protein s17e-like\n",
       "1.10.140.10                          MET apo-repressor, subunit a\n",
       "1.10.150.50                           Transcription factor, ets-1\n",
       "1.10.150.290    S-adenosyl-L-methionine-dependent methyltransf...\n",
       "1.10.150.320              Photosystem II 12 kda extrinsic protein\n",
       "1.10.167.10         Regulator of g-protein signalling 4, domain 2\n",
       "1.10.170.10              Bluetongue virus 10, subunit 1, domain 3\n",
       "1.10.189.10                 Pyruvate phosphate dikinase, domain 2\n",
       "1.10.220.50     Bacteriophage t4, gp59, helicase assembly prot...\n",
       "                                      ...                        \n",
       "4.10.420.10                                Smk toxin, alpha chain\n",
       "4.10.450.10                             Glucose oxidase, domain 2\n",
       "4.10.460.10        Inositol polyphosphate 1-phosphatase, domain 1\n",
       "4.10.470.10                           Ricin (a subunit), domain 2\n",
       "4.10.510.10     Pyruvoyl-Dependent histidine decarboxylas, sub...\n",
       "4.10.530.10     Gamma-fibrinogen carboxyl terminal fragment, d...\n",
       "4.10.540.10     Photosynthetic reaction centre, h subunit, N-t...\n",
       "4.10.640.10                                 Ribosomal protein s18\n",
       "4.10.670.10         Cholecystokinin a receptor, N-terminal domain\n",
       "4.10.690.10                 Cricket paralysis virus, vp4; chain d\n",
       "4.10.710.10             Hepatitis c virus capsid protein; chain a\n",
       "4.10.720.10     Smad anchor for receptor activation, smad-bind...\n",
       "4.10.740.10                                 Coagulation factor IX\n",
       "4.10.770.10              Signal protein aml-1b; chain a, domain 3\n",
       "4.10.790.10          Pyruvate-ferredoxin oxidoreductase; domain 7\n",
       "4.10.810.10                    Virus scaffolding protein; chain a\n",
       "4.10.830.10                    30s ribosomal protein s14; chain n\n",
       "4.10.860.20                         Rabenosyn, rab binding domain\n",
       "4.10.870.10                   Endo-1,4-beta-glucanase f. domain 3\n",
       "4.10.880.10     Poliovirus 3d polymerase domain 1 (nucleotidyl...\n",
       "4.10.900.10                     TCF3-CBD (catenin binding domain)\n",
       "4.10.950.10                        Ribosomal protein l2, domain 3\n",
       "4.10.960.10                        Ribosomal protein l3, domain 3\n",
       "4.10.1030.10                           Ring box chain a; domain 5\n",
       "4.10.1110.10                                 AN1-like zinc finger\n",
       "4.10.1190.10                      Chlorophyll a-b binding protein\n",
       "4.10.1250.10                      Aminomethyltransferase fragment\n",
       "4.10.1260.10    Scaffolding protein gpd of bacteriophage proca...\n",
       "4.10.1310.10                     Dinoflagellate luciferase repeat\n",
       "4.10.1330.10          non globular virulence effector SptP domain\n",
       "Length: 652, dtype: object"
      ]
     },
     "execution_count": 87,
     "metadata": {},
     "output_type": "execute_result"
    }
   ],
   "source": [
    "new_column[new_column != df['NAME']]"
   ]
  },
  {
   "cell_type": "code",
   "execution_count": 59,
   "metadata": {
    "ExecuteTime": {
     "end_time": "2018-06-28T16:11:04.992959Z",
     "start_time": "2018-06-28T16:11:04.973743Z"
    }
   },
   "outputs": [
    {
     "data": {
      "text/plain": [
       "'Human Immunodeficiency Virus Type 1 Capsid Protein'"
      ]
     },
     "execution_count": 59,
     "metadata": {},
     "output_type": "execute_result"
    }
   ],
   "source": [
    "df[df['NAME'].str.contains(\"Protein\")]\n",
    "new_column['1.10.375.10']"
   ]
  },
  {
   "cell_type": "code",
   "execution_count": 70,
   "metadata": {
    "ExecuteTime": {
     "end_time": "2018-06-28T16:14:03.793997Z",
     "start_time": "2018-06-28T16:14:03.784994Z"
    }
   },
   "outputs": [
    {
     "name": "stdout",
     "output_type": "stream",
     "text": [
      "YE\n"
     ]
    }
   ],
   "source": [
    "if acronRegex.search('PetetteiAn'):\n",
    "    print(\"YE\")\n",
    "else:\n",
    "    print(\"NAH\")"
   ]
  },
  {
   "cell_type": "code",
   "execution_count": 88,
   "metadata": {
    "ExecuteTime": {
     "end_time": "2018-06-28T16:21:24.395736Z",
     "start_time": "2018-06-28T16:21:24.386856Z"
    }
   },
   "outputs": [
    {
     "data": {
      "text/plain": [
       "S35_REPS                                           1\n",
       "DOMAINS                                            1\n",
       "NAME        Signal Protein Aml-1b; Chain A, domain 3\n",
       "COMMENT                                          NaN\n",
       "Name: 4.10.770.10, dtype: object"
      ]
     },
     "execution_count": 88,
     "metadata": {},
     "output_type": "execute_result"
    }
   ],
   "source": [
    "df.loc['4.10.770.10']"
   ]
  },
  {
   "cell_type": "code",
   "execution_count": 78,
   "metadata": {
    "ExecuteTime": {
     "end_time": "2018-06-28T16:16:43.340870Z",
     "start_time": "2018-06-28T16:16:43.329839Z"
    }
   },
   "outputs": [
    {
     "data": {
      "text/plain": [
       "'Dinoflagellate luciferase repeat'"
      ]
     },
     "execution_count": 78,
     "metadata": {},
     "output_type": "execute_result"
    }
   ],
   "source": [
    "new_column]"
   ]
  },
  {
   "cell_type": "code",
   "execution_count": null,
   "metadata": {},
   "outputs": [],
   "source": []
  }
 ],
 "metadata": {
  "hide_input": false,
  "kernelspec": {
   "display_name": "Python 3",
   "language": "python",
   "name": "python3"
  },
  "language_info": {
   "codemirror_mode": {
    "name": "ipython",
    "version": 3
   },
   "file_extension": ".py",
   "mimetype": "text/x-python",
   "name": "python",
   "nbconvert_exporter": "python",
   "pygments_lexer": "ipython3",
   "version": "3.6.5"
  },
  "varInspector": {
   "cols": {
    "lenName": 16,
    "lenType": 16,
    "lenVar": 40
   },
   "kernels_config": {
    "python": {
     "delete_cmd_postfix": "",
     "delete_cmd_prefix": "del ",
     "library": "var_list.py",
     "varRefreshCmd": "print(var_dic_list())"
    },
    "r": {
     "delete_cmd_postfix": ") ",
     "delete_cmd_prefix": "rm(",
     "library": "var_list.r",
     "varRefreshCmd": "cat(var_dic_list()) "
    }
   },
   "position": {
    "height": "375px",
    "left": "1539px",
    "right": "20px",
    "top": "129px",
    "width": "350px"
   },
   "types_to_exclude": [
    "module",
    "function",
    "builtin_function_or_method",
    "instance",
    "_Feature"
   ],
   "window_display": true
  }
 },
 "nbformat": 4,
 "nbformat_minor": 2
}
