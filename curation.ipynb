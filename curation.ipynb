{
 "cells": [
  {
   "cell_type": "code",
   "execution_count": 1,
   "metadata": {
    "ExecuteTime": {
     "end_time": "2018-07-10T22:04:16.186802Z",
     "start_time": "2018-07-10T22:04:15.933915Z"
    },
    "init_cell": true
   },
   "outputs": [],
   "source": [
    "import pandas as pd"
   ]
  },
  {
   "cell_type": "code",
   "execution_count": 2,
   "metadata": {
    "ExecuteTime": {
     "end_time": "2018-07-10T22:04:16.826167Z",
     "start_time": "2018-07-10T22:04:16.807833Z"
    },
    "init_cell": true
   },
   "outputs": [],
   "source": [
    "df = pd.read_csv('./results/renamed_superfamilies.tsv', sep='\\t', index_col=0)"
   ]
  },
  {
   "cell_type": "code",
   "execution_count": 3,
   "metadata": {
    "ExecuteTime": {
     "end_time": "2018-07-10T22:04:18.447852Z",
     "start_time": "2018-07-10T22:04:18.397799Z"
    }
   },
   "outputs": [
    {
     "data": {
      "text/html": [
       "<div>\n",
       "<style scoped>\n",
       "    .dataframe tbody tr th:only-of-type {\n",
       "        vertical-align: middle;\n",
       "    }\n",
       "\n",
       "    .dataframe tbody tr th {\n",
       "        vertical-align: top;\n",
       "    }\n",
       "\n",
       "    .dataframe thead th {\n",
       "        text-align: right;\n",
       "    }\n",
       "</style>\n",
       "<table border=\"1\" class=\"dataframe\">\n",
       "  <thead>\n",
       "    <tr style=\"text-align: right;\">\n",
       "      <th></th>\n",
       "      <th>OLD_NAME</th>\n",
       "      <th>COMMENT</th>\n",
       "      <th>NEW_NAME</th>\n",
       "    </tr>\n",
       "    <tr>\n",
       "      <th># CATH_ID</th>\n",
       "      <th></th>\n",
       "      <th></th>\n",
       "      <th></th>\n",
       "    </tr>\n",
       "  </thead>\n",
       "  <tbody>\n",
       "    <tr>\n",
       "      <th>1.10.10.460</th>\n",
       "      <td>Ribonuclease hii. Domain 2</td>\n",
       "      <td>ICR</td>\n",
       "      <td>Ribonuclease hII, domain 2</td>\n",
       "    </tr>\n",
       "    <tr>\n",
       "      <th>1.10.10.670</th>\n",
       "      <td>photosystem ii from thermosynechococcus elonga...</td>\n",
       "      <td>IOLR</td>\n",
       "      <td>Photosystem II from Thermosynechococcus elongatus</td>\n",
       "    </tr>\n",
       "    <tr>\n",
       "      <th>1.20.120.390</th>\n",
       "      <td>Hla class ii histocompatibility antigen, dr al...</td>\n",
       "      <td>ICR</td>\n",
       "      <td>Hla class II histocompatibility antigen, dr al...</td>\n",
       "    </tr>\n",
       "    <tr>\n",
       "      <th>1.20.120.620</th>\n",
       "      <td>Backbone structure of the membrane domain of e...</td>\n",
       "      <td>CTR</td>\n",
       "      <td>Backbone structure of the membrane domain of e...</td>\n",
       "    </tr>\n",
       "    <tr>\n",
       "      <th>1.20.1050.40</th>\n",
       "      <td>Endopeptidase. Chain P; domain 1</td>\n",
       "      <td>CSR</td>\n",
       "      <td>Endopeptidase, chain P, domain 1</td>\n",
       "    </tr>\n",
       "    <tr>\n",
       "      <th>2.30.30.350</th>\n",
       "      <td>mobile metagenome of vibrio cholerae. Integron...</td>\n",
       "      <td>CTLR</td>\n",
       "      <td>Mobile metagenome of vibrio cholerae, integron...</td>\n",
       "    </tr>\n",
       "    <tr>\n",
       "      <th>2.40.160.70</th>\n",
       "      <td>outer membrane protein from Thermus thermophil...</td>\n",
       "      <td>TLR</td>\n",
       "      <td>Outer membrane protein from thermus thermophil...</td>\n",
       "    </tr>\n",
       "    <tr>\n",
       "      <th>2.60.40.1510</th>\n",
       "      <td>ntegrin, alpha v. Chain A, domain 3</td>\n",
       "      <td>CLR</td>\n",
       "      <td>Ntegrin, alpha v, chain A, domain 3</td>\n",
       "    </tr>\n",
       "    <tr>\n",
       "      <th>2.60.40.1530</th>\n",
       "      <td>ntegrin, alpha v. Chain A, domain 4</td>\n",
       "      <td>CLR</td>\n",
       "      <td>Ntegrin, alpha v, chain A, domain 4</td>\n",
       "    </tr>\n",
       "    <tr>\n",
       "      <th>3.10.270.10</th>\n",
       "      <td>Urate Oxidase;</td>\n",
       "      <td>TSR</td>\n",
       "      <td>Urate oxidase</td>\n",
       "    </tr>\n",
       "    <tr>\n",
       "      <th>3.30.740.10</th>\n",
       "      <td>Protein Inhibitor Of Neuronal Nitric Oxide Syn...</td>\n",
       "      <td>TSR</td>\n",
       "      <td>Protein inhibitor of neuronal nitric oxide syn...</td>\n",
       "    </tr>\n",
       "    <tr>\n",
       "      <th>3.30.1620.10</th>\n",
       "      <td>b-12 dependent (class ii) ribonucleotide reduc...</td>\n",
       "      <td>ILR</td>\n",
       "      <td>B-12 dependent (class II) ribonucleotide reduc...</td>\n",
       "    </tr>\n",
       "    <tr>\n",
       "      <th>3.40.50.2000</th>\n",
       "      <td>Glycogen Phosphorylase B;</td>\n",
       "      <td>TSR</td>\n",
       "      <td>Glycogen phosphorylase B</td>\n",
       "    </tr>\n",
       "  </tbody>\n",
       "</table>\n",
       "</div>"
      ],
      "text/plain": [
       "                                                       OLD_NAME COMMENT  \\\n",
       "# CATH_ID                                                                 \n",
       "1.10.10.460                          Ribonuclease hii. Domain 2     ICR   \n",
       "1.10.10.670   photosystem ii from thermosynechococcus elonga...    IOLR   \n",
       "1.20.120.390  Hla class ii histocompatibility antigen, dr al...     ICR   \n",
       "1.20.120.620  Backbone structure of the membrane domain of e...     CTR   \n",
       "1.20.1050.40                   Endopeptidase. Chain P; domain 1     CSR   \n",
       "2.30.30.350   mobile metagenome of vibrio cholerae. Integron...    CTLR   \n",
       "2.40.160.70   outer membrane protein from Thermus thermophil...     TLR   \n",
       "2.60.40.1510                ntegrin, alpha v. Chain A, domain 3     CLR   \n",
       "2.60.40.1530                ntegrin, alpha v. Chain A, domain 4     CLR   \n",
       "3.10.270.10                                      Urate Oxidase;     TSR   \n",
       "3.30.740.10   Protein Inhibitor Of Neuronal Nitric Oxide Syn...     TSR   \n",
       "3.30.1620.10  b-12 dependent (class ii) ribonucleotide reduc...     ILR   \n",
       "3.40.50.2000                          Glycogen Phosphorylase B;     TSR   \n",
       "\n",
       "                                                       NEW_NAME  \n",
       "# CATH_ID                                                        \n",
       "1.10.10.460                          Ribonuclease hII, domain 2  \n",
       "1.10.10.670   Photosystem II from Thermosynechococcus elongatus  \n",
       "1.20.120.390  Hla class II histocompatibility antigen, dr al...  \n",
       "1.20.120.620  Backbone structure of the membrane domain of e...  \n",
       "1.20.1050.40                   Endopeptidase, chain P, domain 1  \n",
       "2.30.30.350   Mobile metagenome of vibrio cholerae, integron...  \n",
       "2.40.160.70   Outer membrane protein from thermus thermophil...  \n",
       "2.60.40.1510                Ntegrin, alpha v, chain A, domain 3  \n",
       "2.60.40.1530                Ntegrin, alpha v, chain A, domain 4  \n",
       "3.10.270.10                                       Urate oxidase  \n",
       "3.30.740.10   Protein inhibitor of neuronal nitric oxide syn...  \n",
       "3.30.1620.10  B-12 dependent (class II) ribonucleotide reduc...  \n",
       "3.40.50.2000                           Glycogen phosphorylase B  "
      ]
     },
     "execution_count": 3,
     "metadata": {},
     "output_type": "execute_result"
    }
   ],
   "source": [
    "df[df.COMMENT.str.len()>=3]"
   ]
  },
  {
   "cell_type": "code",
   "execution_count": null,
   "metadata": {
    "ExecuteTime": {
     "end_time": "2018-07-10T22:04:20.394775Z",
     "start_time": "2018-07-10T22:04:20.242702Z"
    }
   },
   "outputs": [],
   "source": []
  },
  {
   "cell_type": "code",
   "execution_count": null,
   "metadata": {
    "ExecuteTime": {
     "end_time": "2018-07-10T20:06:23.549728Z",
     "start_time": "2018-07-10T20:06:23.536551Z"
    }
   },
   "outputs": [],
   "source": []
  },
  {
   "cell_type": "code",
   "execution_count": null,
   "metadata": {},
   "outputs": [],
   "source": []
  }
 ],
 "metadata": {
  "hide_input": false,
  "kernelspec": {
   "display_name": "Python 3",
   "language": "python",
   "name": "python3"
  },
  "language_info": {
   "codemirror_mode": {
    "name": "ipython",
    "version": 3
   },
   "file_extension": ".py",
   "mimetype": "text/x-python",
   "name": "python",
   "nbconvert_exporter": "python",
   "pygments_lexer": "ipython3",
   "version": "3.6.5"
  },
  "varInspector": {
   "cols": {
    "lenName": 16,
    "lenType": 16,
    "lenVar": 40
   },
   "kernels_config": {
    "python": {
     "delete_cmd_postfix": "",
     "delete_cmd_prefix": "del ",
     "library": "var_list.py",
     "varRefreshCmd": "print(var_dic_list())"
    },
    "r": {
     "delete_cmd_postfix": ") ",
     "delete_cmd_prefix": "rm(",
     "library": "var_list.r",
     "varRefreshCmd": "cat(var_dic_list()) "
    }
   },
   "types_to_exclude": [
    "module",
    "function",
    "builtin_function_or_method",
    "instance",
    "_Feature"
   ],
   "window_display": false
  }
 },
 "nbformat": 4,
 "nbformat_minor": 2
}
