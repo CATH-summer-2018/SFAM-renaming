{
 "cells": [
  {
   "cell_type": "code",
   "execution_count": 22,
   "metadata": {
    "ExecuteTime": {
     "end_time": "2018-07-12T11:44:23.414988Z",
     "start_time": "2018-07-12T11:44:23.408691Z"
    },
    "init_cell": true
   },
   "outputs": [],
   "source": [
    "import pandas as pd"
   ]
  },
  {
   "cell_type": "code",
   "execution_count": 23,
   "metadata": {
    "ExecuteTime": {
     "end_time": "2018-07-12T11:44:23.674978Z",
     "start_time": "2018-07-12T11:44:23.654329Z"
    },
    "init_cell": true
   },
   "outputs": [],
   "source": [
    "df = pd.read_csv('./results/renamed_superfamilies.tsv', sep='\\t', index_col=0)"
   ]
  },
  {
   "cell_type": "code",
   "execution_count": 26,
   "metadata": {
    "ExecuteTime": {
     "end_time": "2018-07-12T11:44:48.017649Z",
     "start_time": "2018-07-12T11:44:47.997281Z"
    }
   },
   "outputs": [
    {
     "data": {
      "text/html": [
       "<div>\n",
       "<style scoped>\n",
       "    .dataframe tbody tr th:only-of-type {\n",
       "        vertical-align: middle;\n",
       "    }\n",
       "\n",
       "    .dataframe tbody tr th {\n",
       "        vertical-align: top;\n",
       "    }\n",
       "\n",
       "    .dataframe thead th {\n",
       "        text-align: right;\n",
       "    }\n",
       "</style>\n",
       "<table border=\"1\" class=\"dataframe\">\n",
       "  <thead>\n",
       "    <tr style=\"text-align: right;\">\n",
       "      <th></th>\n",
       "      <th>OLD_NAME</th>\n",
       "      <th>COMMENT</th>\n",
       "      <th>NEW_NAME</th>\n",
       "    </tr>\n",
       "    <tr>\n",
       "      <th># CATH_ID</th>\n",
       "      <th></th>\n",
       "      <th></th>\n",
       "      <th></th>\n",
       "    </tr>\n",
       "  </thead>\n",
       "  <tbody>\n",
       "    <tr>\n",
       "      <th>2.20.120.10</th>\n",
       "      <td>Multimodular pneumococcal cell wall endolysin,...</td>\n",
       "      <td>O</td>\n",
       "      <td>Multimodular Pneumococcal cell wall endolysin,...</td>\n",
       "    </tr>\n",
       "    <tr>\n",
       "      <th>3.30.2090.10</th>\n",
       "      <td>Multidrug efflux transporter AcrB TolC docking...</td>\n",
       "      <td>SR</td>\n",
       "      <td>Multidrug efflux transporter AcrB TolC docking...</td>\n",
       "    </tr>\n",
       "  </tbody>\n",
       "</table>\n",
       "</div>"
      ],
      "text/plain": [
       "                                                       OLD_NAME COMMENT  \\\n",
       "# CATH_ID                                                                 \n",
       "2.20.120.10   Multimodular pneumococcal cell wall endolysin,...       O   \n",
       "3.30.2090.10  Multidrug efflux transporter AcrB TolC docking...      SR   \n",
       "\n",
       "                                                       NEW_NAME  \n",
       "# CATH_ID                                                        \n",
       "2.20.120.10   Multimodular Pneumococcal cell wall endolysin,...  \n",
       "3.30.2090.10  Multidrug efflux transporter AcrB TolC docking...  "
      ]
     },
     "execution_count": 26,
     "metadata": {},
     "output_type": "execute_result"
    }
   ],
   "source": [
    "df[df.OLD_NAME.str.contains('Mu')]"
   ]
  },
  {
   "cell_type": "code",
   "execution_count": 21,
   "metadata": {
    "ExecuteTime": {
     "end_time": "2018-07-12T11:42:46.061365Z",
     "start_time": "2018-07-12T11:42:46.049912Z"
    }
   },
   "outputs": [
    {
     "data": {
      "text/plain": [
       "OLD_NAME    Crispr-associated protein; domain 1\n",
       "COMMENT                                       S\n",
       "NEW_NAME    Crispr-associated protein, domain 1\n",
       "Name: 3.30.70.1200, dtype: object"
      ]
     },
     "execution_count": 21,
     "metadata": {},
     "output_type": "execute_result"
    }
   ],
   "source": [
    "df.loc['3.30.70.1200']"
   ]
  },
  {
   "cell_type": "code",
   "execution_count": null,
   "metadata": {},
   "outputs": [],
   "source": []
  }
 ],
 "metadata": {
  "hide_input": false,
  "kernelspec": {
   "display_name": "Python 3",
   "language": "python",
   "name": "python3"
  },
  "language_info": {
   "codemirror_mode": {
    "name": "ipython",
    "version": 3
   },
   "file_extension": ".py",
   "mimetype": "text/x-python",
   "name": "python",
   "nbconvert_exporter": "python",
   "pygments_lexer": "ipython3",
   "version": "3.6.5"
  },
  "varInspector": {
   "cols": {
    "lenName": 16,
    "lenType": 16,
    "lenVar": 40
   },
   "kernels_config": {
    "python": {
     "delete_cmd_postfix": "",
     "delete_cmd_prefix": "del ",
     "library": "var_list.py",
     "varRefreshCmd": "print(var_dic_list())"
    },
    "r": {
     "delete_cmd_postfix": ") ",
     "delete_cmd_prefix": "rm(",
     "library": "var_list.r",
     "varRefreshCmd": "cat(var_dic_list()) "
    }
   },
   "types_to_exclude": [
    "module",
    "function",
    "builtin_function_or_method",
    "instance",
    "_Feature"
   ],
   "window_display": false
  }
 },
 "nbformat": 4,
 "nbformat_minor": 2
}
