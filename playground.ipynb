{
 "cells": [
  {
   "cell_type": "code",
   "execution_count": 1,
   "metadata": {
    "ExecuteTime": {
     "end_time": "2018-07-12T11:48:03.785912Z",
     "start_time": "2018-07-12T11:48:03.496681Z"
    },
    "init_cell": true
   },
   "outputs": [],
   "source": [
    "from CATH_parser import *\n",
    "import re\n",
    "import warnings\n",
    "warnings.filterwarnings('ignore')"
   ]
  },
  {
   "cell_type": "code",
   "execution_count": 2,
   "metadata": {
    "ExecuteTime": {
     "end_time": "2018-07-12T11:48:03.844112Z",
     "start_time": "2018-07-12T11:48:03.802286Z"
    },
    "init_cell": true
   },
   "outputs": [],
   "source": [
    "df = pd.read_csv(\"./cath-superfamily-list.txt\", sep='\\t',index_col=0)\n",
    "df = df.dropna()\n",
    "df['COMMENT'] = np.nan"
   ]
  },
  {
   "cell_type": "code",
   "execution_count": 8,
   "metadata": {
    "ExecuteTime": {
     "end_time": "2018-07-12T11:49:10.235247Z",
     "start_time": "2018-07-12T11:49:10.218723Z"
    }
   },
   "outputs": [
    {
     "name": "stdout",
     "output_type": "stream",
     "text": [
      "Ubiquitin activating enzymes (Uba3). Chain: B, domain 2\n",
      "ATP:guanido phosphotransferase, N-terminal domain\n",
      "Sodium:dicarboxylate symporter\n",
      "Son of sevenless (SoS) protein Chain: S domain 1\n",
      "Particulate methane monooxygenase subunit c2. Chain: C\n",
      "membrane protein fhac: a member of the omp85/tpsb transporter family \n",
      "Thiol:disulfide interchange protein DsbD, N-terminal domain\n",
      "Particulate methane monooxygenase, b subunit. Chain: A, domain 3\n",
      "Particulate methane monooxygenase, b subunit. Chain: A, domain 1\n",
      "Ubiquitin-like 2 activating enzyme e1b. Chain:  B, domain 3\n",
      "Structure from the mobile metagenome of cole harbour salt marsh: integron cassette protein hfx_cass1\n",
      "NADH:ubiquinone oxidoreductase-like, 20kDa subunit\n",
      "Crotonobetainyl-coa:carnitine coa-transferase; domain 1\n"
     ]
    }
   ],
   "source": [
    "for n in df[df.NAME.str.contains(':')].NAME.values:\n",
    "    print(n)"
   ]
  },
  {
   "cell_type": "code",
   "execution_count": 11,
   "metadata": {
    "ExecuteTime": {
     "end_time": "2018-07-12T12:11:10.627676Z",
     "start_time": "2018-07-12T12:11:10.602904Z"
    }
   },
   "outputs": [
    {
     "data": {
      "text/plain": [
       "(# CATH_ID\n",
       " 2.10.230.10         Heat shock protein DNAJ, cysteine-rich domain\n",
       " 3.30.420.140                             YqgF/RNAse H-like domain\n",
       " 3.90.198.10     Replication Fork Single-Stranded DNA Binding P...\n",
       " 3.90.540.10                          Colicin/pyocin, DNAse domain\n",
       " Name: NAME, dtype: object, # CATH_ID\n",
       " 2.10.230.10     N\n",
       " 3.30.420.140    N\n",
       " 3.90.198.10     N\n",
       " 3.90.540.10     N\n",
       " Name: COMMENT, dtype: object)"
      ]
     },
     "execution_count": 11,
     "metadata": {},
     "output_type": "execute_result"
    }
   ],
   "source": [
    "def DNA_RNA(df):\n",
    "    reg = re.compile('(\\W[RDrd][Nn]a)')\n",
    "    def repl(mat):\n",
    "        return mat.group(1).upper()\n",
    "    ret = df[df.NAME.str.contains(reg)].NAME.str.replace(reg, repl)\n",
    "    comment = pd.Series(index=ret.index,name='COMMENT', data=\"N\")\n",
    "    return ret, comment\n",
    "DNA_RNA(df)"
   ]
  },
  {
   "cell_type": "code",
   "execution_count": 14,
   "metadata": {
    "ExecuteTime": {
     "end_time": "2018-07-12T12:12:34.856559Z",
     "start_time": "2018-07-12T12:12:34.825688Z"
    }
   },
   "outputs": [
    {
     "data": {
      "text/html": [
       "<div>\n",
       "<style scoped>\n",
       "    .dataframe tbody tr th:only-of-type {\n",
       "        vertical-align: middle;\n",
       "    }\n",
       "\n",
       "    .dataframe tbody tr th {\n",
       "        vertical-align: top;\n",
       "    }\n",
       "\n",
       "    .dataframe thead th {\n",
       "        text-align: right;\n",
       "    }\n",
       "</style>\n",
       "<table border=\"1\" class=\"dataframe\">\n",
       "  <thead>\n",
       "    <tr style=\"text-align: right;\">\n",
       "      <th></th>\n",
       "      <th>S35_REPS</th>\n",
       "      <th>DOMAINS</th>\n",
       "      <th>NAME</th>\n",
       "      <th>COMMENT</th>\n",
       "    </tr>\n",
       "    <tr>\n",
       "      <th># CATH_ID</th>\n",
       "      <th></th>\n",
       "      <th></th>\n",
       "      <th></th>\n",
       "      <th></th>\n",
       "    </tr>\n",
       "  </thead>\n",
       "  <tbody>\n",
       "    <tr>\n",
       "      <th>1.10.10.630</th>\n",
       "      <td>2</td>\n",
       "      <td>3</td>\n",
       "      <td>DnaD domain-like</td>\n",
       "      <td>NaN</td>\n",
       "    </tr>\n",
       "    <tr>\n",
       "      <th>1.10.287.110</th>\n",
       "      <td>21</td>\n",
       "      <td>94</td>\n",
       "      <td>DnaJ domain</td>\n",
       "      <td>NaN</td>\n",
       "    </tr>\n",
       "    <tr>\n",
       "      <th>1.10.1160.10</th>\n",
       "      <td>3</td>\n",
       "      <td>56</td>\n",
       "      <td>Glutamyl-trna Synthetase; Domain 2</td>\n",
       "      <td>NaN</td>\n",
       "    </tr>\n",
       "    <tr>\n",
       "      <th>1.10.3040.10</th>\n",
       "      <td>1</td>\n",
       "      <td>2</td>\n",
       "      <td>borna disease virus nucleoprotein, domain 1</td>\n",
       "      <td>NaN</td>\n",
       "    </tr>\n",
       "    <tr>\n",
       "      <th>1.10.3050.10</th>\n",
       "      <td>1</td>\n",
       "      <td>2</td>\n",
       "      <td>borna disease virus nucleoprotein, domain 2</td>\n",
       "      <td>NaN</td>\n",
       "    </tr>\n",
       "    <tr>\n",
       "      <th>2.10.230.10</th>\n",
       "      <td>2</td>\n",
       "      <td>3</td>\n",
       "      <td>Heat shock protein DnaJ, cysteine-rich domain</td>\n",
       "      <td>NaN</td>\n",
       "    </tr>\n",
       "    <tr>\n",
       "      <th>3.30.160.100</th>\n",
       "      <td>4</td>\n",
       "      <td>20</td>\n",
       "      <td>Ribosome hibernation promotion factor-like</td>\n",
       "      <td>NaN</td>\n",
       "    </tr>\n",
       "    <tr>\n",
       "      <th>3.30.980.10</th>\n",
       "      <td>6</td>\n",
       "      <td>32</td>\n",
       "      <td>Threonyl-trna Synthetase; Chain A, domain 2</td>\n",
       "      <td>NaN</td>\n",
       "    </tr>\n",
       "    <tr>\n",
       "      <th>3.40.1820.10</th>\n",
       "      <td>1</td>\n",
       "      <td>163</td>\n",
       "      <td>DnaQ-like 3'-5' exonuclease</td>\n",
       "      <td>NaN</td>\n",
       "    </tr>\n",
       "    <tr>\n",
       "      <th>3.50.40.10</th>\n",
       "      <td>4</td>\n",
       "      <td>38</td>\n",
       "      <td>Phenylalanyl-trna Synthetase, Chain B, domain 3</td>\n",
       "      <td>NaN</td>\n",
       "    </tr>\n",
       "    <tr>\n",
       "      <th>3.90.198.10</th>\n",
       "      <td>1</td>\n",
       "      <td>4</td>\n",
       "      <td>Replication Fork Single-Stranded Dna Binding P...</td>\n",
       "      <td>NaN</td>\n",
       "    </tr>\n",
       "    <tr>\n",
       "      <th>4.10.80.10</th>\n",
       "      <td>2</td>\n",
       "      <td>68</td>\n",
       "      <td>Picornavirus coat protein VP4</td>\n",
       "      <td>NaN</td>\n",
       "    </tr>\n",
       "    <tr>\n",
       "      <th>4.10.90.10</th>\n",
       "      <td>3</td>\n",
       "      <td>16</td>\n",
       "      <td>Capsid protein VP4 superfamily, Picornavirus</td>\n",
       "      <td>NaN</td>\n",
       "    </tr>\n",
       "  </tbody>\n",
       "</table>\n",
       "</div>"
      ],
      "text/plain": [
       "              S35_REPS  DOMAINS  \\\n",
       "# CATH_ID                         \n",
       "1.10.10.630          2        3   \n",
       "1.10.287.110        21       94   \n",
       "1.10.1160.10         3       56   \n",
       "1.10.3040.10         1        2   \n",
       "1.10.3050.10         1        2   \n",
       "2.10.230.10          2        3   \n",
       "3.30.160.100         4       20   \n",
       "3.30.980.10          6       32   \n",
       "3.40.1820.10         1      163   \n",
       "3.50.40.10           4       38   \n",
       "3.90.198.10          1        4   \n",
       "4.10.80.10           2       68   \n",
       "4.10.90.10           3       16   \n",
       "\n",
       "                                                           NAME  COMMENT  \n",
       "# CATH_ID                                                                 \n",
       "1.10.10.630                                    DnaD domain-like      NaN  \n",
       "1.10.287.110                                        DnaJ domain      NaN  \n",
       "1.10.1160.10                 Glutamyl-trna Synthetase; Domain 2      NaN  \n",
       "1.10.3040.10        borna disease virus nucleoprotein, domain 1      NaN  \n",
       "1.10.3050.10        borna disease virus nucleoprotein, domain 2      NaN  \n",
       "2.10.230.10       Heat shock protein DnaJ, cysteine-rich domain      NaN  \n",
       "3.30.160.100         Ribosome hibernation promotion factor-like      NaN  \n",
       "3.30.980.10         Threonyl-trna Synthetase; Chain A, domain 2      NaN  \n",
       "3.40.1820.10                        DnaQ-like 3'-5' exonuclease      NaN  \n",
       "3.50.40.10      Phenylalanyl-trna Synthetase, Chain B, domain 3      NaN  \n",
       "3.90.198.10   Replication Fork Single-Stranded Dna Binding P...      NaN  \n",
       "4.10.80.10                        Picornavirus coat protein VP4      NaN  \n",
       "4.10.90.10         Capsid protein VP4 superfamily, Picornavirus      NaN  "
      ]
     },
     "execution_count": 14,
     "metadata": {},
     "output_type": "execute_result"
    }
   ],
   "source": [
    "df[df.NAME.str.contains('[RDrd]na')]"
   ]
  },
  {
   "cell_type": "code",
   "execution_count": 16,
   "metadata": {
    "ExecuteTime": {
     "end_time": "2018-07-12T12:16:43.152771Z",
     "start_time": "2018-07-12T12:16:43.145790Z"
    }
   },
   "outputs": [
    {
     "data": {
      "text/plain": [
       "'Replication Fork Single-Stranded Dna Binding Protein'"
      ]
     },
     "execution_count": 16,
     "metadata": {},
     "output_type": "execute_result"
    }
   ],
   "source": [
    "df.loc['3.90.198.10']['NAME']"
   ]
  },
  {
   "cell_type": "code",
   "execution_count": null,
   "metadata": {},
   "outputs": [],
   "source": []
  }
 ],
 "metadata": {
  "hide_input": false,
  "kernelspec": {
   "display_name": "Python 3",
   "language": "python",
   "name": "python3"
  },
  "language_info": {
   "codemirror_mode": {
    "name": "ipython",
    "version": 3
   },
   "file_extension": ".py",
   "mimetype": "text/x-python",
   "name": "python",
   "nbconvert_exporter": "python",
   "pygments_lexer": "ipython3",
   "version": "3.6.5"
  },
  "varInspector": {
   "cols": {
    "lenName": 16,
    "lenType": 16,
    "lenVar": 40
   },
   "kernels_config": {
    "python": {
     "delete_cmd_postfix": "",
     "delete_cmd_prefix": "del ",
     "library": "var_list.py",
     "varRefreshCmd": "print(var_dic_list())"
    },
    "r": {
     "delete_cmd_postfix": ") ",
     "delete_cmd_prefix": "rm(",
     "library": "var_list.r",
     "varRefreshCmd": "cat(var_dic_list()) "
    }
   },
   "position": {
    "height": "375px",
    "left": "1539px",
    "right": "20px",
    "top": "129px",
    "width": "350px"
   },
   "types_to_exclude": [
    "module",
    "function",
    "builtin_function_or_method",
    "instance",
    "_Feature"
   ],
   "window_display": false
  }
 },
 "nbformat": 4,
 "nbformat_minor": 2
}
