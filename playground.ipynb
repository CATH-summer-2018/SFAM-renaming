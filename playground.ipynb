{
 "cells": [
  {
   "cell_type": "code",
   "execution_count": 1,
   "metadata": {
    "ExecuteTime": {
     "end_time": "2018-07-10T18:47:03.319753Z",
     "start_time": "2018-07-10T18:47:02.990436Z"
    }
   },
   "outputs": [],
   "source": [
    "from CATH_parser import *"
   ]
  },
  {
   "cell_type": "code",
   "execution_count": 2,
   "metadata": {
    "ExecuteTime": {
     "end_time": "2018-07-10T18:47:04.368402Z",
     "start_time": "2018-07-10T18:47:04.278299Z"
    }
   },
   "outputs": [],
   "source": [
    "df = pd.read_csv(\"./cath-superfamily-list.txt\", sep='\\t',index_col=0)\n",
    "df = df.dropna()\n",
    "df['COMMENT'] = np.nan"
   ]
  },
  {
   "cell_type": "code",
   "execution_count": 18,
   "metadata": {
    "ExecuteTime": {
     "end_time": "2018-07-10T18:57:50.371559Z",
     "start_time": "2018-07-10T18:57:50.349860Z"
    }
   },
   "outputs": [
    {
     "data": {
      "text/plain": [
       "# CATH_ID\n",
       "1.10.10.460                            Ribonuclease hII. Domain 2\n",
       "1.10.10.670     photosystem II from thermosynechococcus elonga...\n",
       "1.10.3250.10           type II restriction endonuclease, domain 1\n",
       "1.20.5.930      Bicelle-embedded integrin alpha(IIb) transmemb...\n",
       "1.20.120.390    Hla class II histocompatibility antigen, dr al...\n",
       "2.20.28.30                             RNA polymerase II, chain L\n",
       "2.40.470.10                                  catalase hpII domain\n",
       "3.30.1620.10    b-12 dependent (class II) ribonucleotide reduc...\n",
       "3.40.1560.10           type II restriction endonuclease, domain 2\n",
       "3.90.1390.10    b-12 dependent (class II) ribonucleotide reduc...\n",
       "Name: NAME, dtype: object"
      ]
     },
     "execution_count": 18,
     "metadata": {},
     "output_type": "execute_result"
    }
   ],
   "source": [
    "def ii_to_II(df):\n",
    "    ret = df[df.NAME.str.contains('ii[\\W|b]')].NAME.str.replace('ii', 'II')\n",
    "    comment = pd.Series(index=ret.index, name='COMMENT', data=\"I\")\n",
    "    return ret, comment"
   ]
  },
  {
   "cell_type": "code",
   "execution_count": 50,
   "metadata": {
    "ExecuteTime": {
     "end_time": "2018-07-10T19:14:03.379234Z",
     "start_time": "2018-07-10T19:14:03.365983Z"
    }
   },
   "outputs": [],
   "source": [
    "def org_names(df):\n",
    "    ret = pd.Series()\n",
    "    cocRE = re.compile('cocc')\n",
    "    for sfam in df[df.NAME.str.contains('cocc')].itertuples():\n",
    "        l = sfam.NAME.split()\n",
    "        new_name = [l[0]]\n",
    "        for word in l[1:]:\n",
    "            if cocRE.search(word):\n",
    "                new_name.append(word[0].upper() + word[1:])\n",
    "            else:\n",
    "                new_name.append(word)\n",
    "        ret[sfam.Index] = \" \".join(new_name)\n",
    "    ret = ret[ret != df[df.NAME.str.contains('cocc')].NAME]\n",
    "    comment = pd.Series(index=ret.index,name='COMMENT', data=\"O\")\n",
    "    return ret, comment"
   ]
  },
  {
   "cell_type": "code",
   "execution_count": 51,
   "metadata": {
    "ExecuteTime": {
     "end_time": "2018-07-10T19:14:04.475626Z",
     "start_time": "2018-07-10T19:14:04.418471Z"
    }
   },
   "outputs": [
    {
     "data": {
      "text/plain": [
       "(1.10.10.670     photosystem ii from Thermosynechococcus elongatus\n",
       " 1.10.287.900    The crystal structure of the spermine/spermidi...\n",
       " 2.20.120.10     Multimodular Pneumococcal cell wall endolysin,...\n",
       " 2.30.310.10     ibrinogen binding protein from Staphylococcus ...\n",
       " 2.40.420.10     conserved putative lor/sdh protein from Methan...\n",
       " 3.30.1760.10    Conserved hypothetical protein from Pyrococcus...\n",
       " 3.40.970.40     fibrinogen binding protein from Staphylococcus...\n",
       " 3.90.1530.10    Conserved hypothetical protein from Pyrococcus...\n",
       " dtype: object, 1.10.10.670     O\n",
       " 1.10.287.900    O\n",
       " 2.20.120.10     O\n",
       " 2.30.310.10     O\n",
       " 2.40.420.10     O\n",
       " 3.30.1760.10    O\n",
       " 3.40.970.40     O\n",
       " 3.90.1530.10    O\n",
       " Name: COMMENT, dtype: object)"
      ]
     },
     "execution_count": 51,
     "metadata": {},
     "output_type": "execute_result"
    }
   ],
   "source": [
    "org_names(df)"
   ]
  },
  {
   "cell_type": "code",
   "execution_count": null,
   "metadata": {},
   "outputs": [],
   "source": []
  }
 ],
 "metadata": {
  "hide_input": false,
  "kernelspec": {
   "display_name": "Python 3",
   "language": "python",
   "name": "python3"
  },
  "language_info": {
   "codemirror_mode": {
    "name": "ipython",
    "version": 3
   },
   "file_extension": ".py",
   "mimetype": "text/x-python",
   "name": "python",
   "nbconvert_exporter": "python",
   "pygments_lexer": "ipython3",
   "version": "3.6.5"
  },
  "varInspector": {
   "cols": {
    "lenName": 16,
    "lenType": 16,
    "lenVar": 40
   },
   "kernels_config": {
    "python": {
     "delete_cmd_postfix": "",
     "delete_cmd_prefix": "del ",
     "library": "var_list.py",
     "varRefreshCmd": "print(var_dic_list())"
    },
    "r": {
     "delete_cmd_postfix": ") ",
     "delete_cmd_prefix": "rm(",
     "library": "var_list.r",
     "varRefreshCmd": "cat(var_dic_list()) "
    }
   },
   "position": {
    "height": "375px",
    "left": "1539px",
    "right": "20px",
    "top": "129px",
    "width": "350px"
   },
   "types_to_exclude": [
    "module",
    "function",
    "builtin_function_or_method",
    "instance",
    "_Feature"
   ],
   "window_display": true
  }
 },
 "nbformat": 4,
 "nbformat_minor": 2
}
